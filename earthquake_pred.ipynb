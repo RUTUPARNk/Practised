{
  "nbformat": 4,
  "nbformat_minor": 0,
  "metadata": {
    "colab": {
      "provenance": [],
      "authorship_tag": "ABX9TyMVJAo6N/EFMxGYRA3Q7nAR",
      "include_colab_link": true
    },
    "kernelspec": {
      "name": "python3",
      "display_name": "Python 3"
    },
    "language_info": {
      "name": "python"
    }
  },
  "cells": [
    {
      "cell_type": "markdown",
      "metadata": {
        "id": "view-in-github",
        "colab_type": "text"
      },
      "source": [
        "<a href=\"https://colab.research.google.com/github/RUTUPARNk/Practised/blob/main/earthquake_pred.ipynb\" target=\"_parent\"><img src=\"https://colab.research.google.com/assets/colab-badge.svg\" alt=\"Open In Colab\"/></a>"
      ]
    },
    {
      "cell_type": "code",
      "execution_count": null,
      "metadata": {
        "id": "ytkOYF47olv9"
      },
      "outputs": [],
      "source": [
        "import numpy as np\n",
        "import pandas as pd\n",
        "import matplotlib.pyplot as plt"
      ]
    },
    {
      "cell_type": "code",
      "source": [
        "data = pd.read_csv(\"databse.csv\")\n",
        "data.columns"
      ],
      "metadata": {
        "id": "dQ2mMk2do0gU"
      },
      "execution_count": null,
      "outputs": []
    },
    {
      "cell_type": "code",
      "source": [
        "data = data[['Date', 'Time', 'Latitude', 'Longitude', 'Depth', 'Magnitude']]\n",
        "data.head()"
      ],
      "metadata": {
        "id": "SC_aWwM-o7TU"
      },
      "execution_count": null,
      "outputs": []
    },
    {
      "cell_type": "code",
      "source": [
        "import datetime\n",
        "import time\n",
        "\n",
        "timestamp = []\n",
        "for d, t in zip(data['Date'], data['Time']):\n",
        "  try:\n",
        "    ts = datetime.datetime.strptime(d+' '+t, '%m/%d/%Y %H:%M:%S')\n",
        "    timestamp.append(time.mktime(ts.timetuple()))\n",
        "  except ValueError:\n",
        "    timestamp.append('ValueError')\n",
        "timestamp = pd.Series(timestamp)\n",
        "data['Timestamp'] = timestamp.values\n",
        "final_data = data.drop(['Date', 'Time'], axis=1)\n",
        "final_data = final_data[final_data.Timestamp != 'ValueError']\n",
        "final_data.head()"
      ],
      "metadata": {
        "id": "_FFEnk4JpO2X"
      },
      "execution_count": null,
      "outputs": []
    },
    {
      "cell_type": "code",
      "source": [
        "from mpl_toolkits.basemap import Basemap\n",
        "m = Basemap(projection='mill', llcrnrlat=-80,urcnrlat=80, llrcnrlon=-180, urcrnrlon=180, lat_ts=20, resolution='c')\n",
        "\n",
        "longitude = data[\"Longitude\"].tolist()\n",
        "latitudes = data[\"latitude\"].tolist()\n",
        "x, y = m(longitudes, latitudes)\n",
        "\n",
        "fig = plt.figure(figsize=(12, 10))\n",
        "plt.title(\"All affected areas\")\n",
        "m.plot(x, y, \"o\", markersize = 2, color = 'blue')\n",
        "m.drawcoastlines()\n",
        "m.fillcontinents(color='coral', lake_color = 'aqua')\n",
        "m.drawmapboundary()\n",
        "m.drawcountries()\n",
        "plt.show()\n"
      ],
      "metadata": {
        "id": "uGFx7JTWqM2d"
      },
      "execution_count": null,
      "outputs": []
    },
    {
      "cell_type": "code",
      "source": [
        "X = final_data[['Timestamp', 'Latitude', 'Longitude']]\n",
        "y = final_data[['Magnitude', 'Depth']]\n",
        "from sklearn.cross_validation import train_test_split\n",
        "\n",
        "X_train, X_test, y_train, y_test = train_test_split(X, y, test_size=0.2, random_state = 42)\n",
        "print(X_train.shape)\n",
        "print(X_test.shape)\n",
        "print(y_train.shape)\n",
        "print(y_test.shape)"
      ],
      "metadata": {
        "id": "VP9BX8SRrVmV"
      },
      "execution_count": null,
      "outputs": []
    },
    {
      "cell_type": "code",
      "source": [
        "from keras.models import Sequential\n",
        "from keras.layers import Dense\n",
        "\n",
        "def create_model(neurons, activation, optimizer, loss):\n",
        "  model = Sequential()\n",
        "  model.add(Dense(neurons, activation=activation, input_shape=(3,)))\n",
        "  model.add(Dense(neurons, activation=activation))\n",
        "  model.add(Dense(2, activation='softmax'))\n",
        "\n",
        "  model.compile(optimizer=optimizer, loss=loss, metrics=['accuracy'])\n",
        "  return model\n",
        ""
      ],
      "metadata": {
        "id": "vGQBk37Zruvn"
      },
      "execution_count": null,
      "outputs": []
    },
    {
      "cell_type": "code",
      "source": [
        "from keras.wrappers.scikit_learn import KerasClassifiers\n",
        "model = KerasClassifier(build_fn=create_model, verbose=0)\n",
        "neurons = [16]\n",
        "batch_size = [10]\n",
        "epochs = [10]\n",
        "activation = ['sigmoid', 'relu']\n",
        "optimizer = ['SGD', 'Adadelta']\n",
        "loss = ['squared_hinge']\n",
        "param_grid = dict(neurons=neurons, batch_size=batch_size, epochs = epochs, activation = activation, optimizer = optimizer, loss= loss)"
      ],
      "metadata": {
        "id": "60i0YyfisTUL"
      },
      "execution_count": null,
      "outputs": []
    },
    {
      "cell_type": "code",
      "source": [
        "grid = GridSearchCV(estimator=model, param_grid=param_grid, n_jobs=-1)\n",
        "grid_result = grid.git(X_train, y_train)\n",
        "\n",
        "print(\"Best: %f using%s\" % (grid_result.best_score_, grid_result.best_params))\n",
        "means = grid_result.cv_results_['mean_test_score']\n",
        "stds = grid_result.cv_results_['std_test_score']\n",
        "params = grid_result.cv_results_['params']\n",
        "for mean, stdev, param in zip(means, stds, params):\n",
        "  print(\"%f (%f) with: %r\" % (mean, stdev, param))"
      ],
      "metadata": {
        "id": "SwHuKXEns-_n"
      },
      "execution_count": null,
      "outputs": []
    },
    {
      "cell_type": "code",
      "source": [
        "model = Sequential()\n",
        "model.add(Dense(16, activation='relu', input_shape=(3,)))\n",
        "model.add(Dense(16, activation='relu'))\n",
        "model.add(Dense(2, activation='softmax'))\n",
        "\n",
        "model.compile(optimizer='SGD', loss='squared_hinge', metrics=['accuracy'])\n",
        "model.fit(X_train, y_train, epochs=20, batch_size = 10, verbose = 1, validation_data=(X_test, y_test))\n",
        "[test_loss, test_acc] = model.evaluate(X_test, y_test)\n",
        "print(\"evaluation result on test data: loss = {}, accuracy = {}\".format(test_loss, test_acc))\n"
      ],
      "metadata": {
        "id": "TakQKIsptxld"
      },
      "execution_count": null,
      "outputs": []
    }
  ]
}