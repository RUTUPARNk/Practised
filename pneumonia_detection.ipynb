{
  "nbformat": 4,
  "nbformat_minor": 0,
  "metadata": {
    "colab": {
      "provenance": [],
      "authorship_tag": "ABX9TyPvyca32ms9WFmim3X6EyjO",
      "include_colab_link": true
    },
    "kernelspec": {
      "name": "python3",
      "display_name": "Python 3"
    },
    "language_info": {
      "name": "python"
    }
  },
  "cells": [
    {
      "cell_type": "markdown",
      "metadata": {
        "id": "view-in-github",
        "colab_type": "text"
      },
      "source": [
        "<a href=\"https://colab.research.google.com/github/RUTUPARNk/Practised/blob/main/pneumonia_detection.ipynb\" target=\"_parent\"><img src=\"https://colab.research.google.com/assets/colab-badge.svg\" alt=\"Open In Colab\"/></a>"
      ]
    },
    {
      "cell_type": "code",
      "execution_count": null,
      "metadata": {
        "id": "zagjxypocq4O"
      },
      "outputs": [],
      "source": [
        "from fastapi import *\n",
        "from fastai.vision import *\n",
        "from fastai.metrics import error_rate\n",
        "import os\n",
        "import pandas as pd\n",
        "import numpy as np\n"
      ]
    },
    {
      "cell_type": "code",
      "source": [
        "x = 'path0'\n",
        "path = Path(x)\n",
        "path.ls()\n"
      ],
      "metadata": {
        "id": "k0M8PXn9dF3o"
      },
      "execution_count": null,
      "outputs": []
    },
    {
      "cell_type": "code",
      "source": [
        "np.random.seed(40)\n",
        "data = ImageDataBunch.from_folder(path, train='.', valid_pct=0.2, ds_tfms=get_transforms(), size=224, num_worders=4).normalize(imagenet_stats)\n",
        "data.show_batch(rows=3, figsize=(7,6),recompute_scale_factor=True)\n",
        "learn = cnn_learner(data, models.resnet50, metrics=[accuracy], model_dir = Path('Path'),path = Path(\".\"))\n",
        "learn.lr_find()\n",
        "learn.recorder.plot(suggestions=True)\n",
        "lr1 = 1e-3\n",
        "lr2 = 1e-1\n",
        "learn.fit_one_cycle(4,slice(lr1, lr2))\n",
        "\n",
        "lr = 1e-1\n",
        "learn.fit_one_cycle(20,slice(lr))\n",
        "\n",
        "learn.unfreeze()\n",
        "learn.lr_find()\n",
        "learn.recorder.plot()\n",
        "learn.fit_one_cycle(10, slice(1e-4, 1e-3))\n",
        "\n",
        "learn.recorder.plot_losses()\n",
        "interp = ClassificationInterpretation.from_learner(learn)\n",
        "interp.plot_confusion_matrix()\n",
        "img = open_image('IM-0001-0001.jpeg')\n",
        "print(learn.predict(img)[0])\n"
      ],
      "metadata": {
        "id": "SgPq5FtMdfEX"
      },
      "execution_count": null,
      "outputs": []
    }
  ]
}