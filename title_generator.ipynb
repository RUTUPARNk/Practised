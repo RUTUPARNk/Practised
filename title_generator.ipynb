{
  "nbformat": 4,
  "nbformat_minor": 0,
  "metadata": {
    "colab": {
      "provenance": [],
      "authorship_tag": "ABX9TyMUKNtxflSQj63Ik5DPLVn0",
      "include_colab_link": true
    },
    "kernelspec": {
      "name": "python3",
      "display_name": "Python 3"
    },
    "language_info": {
      "name": "python"
    }
  },
  "cells": [
    {
      "cell_type": "markdown",
      "metadata": {
        "id": "view-in-github",
        "colab_type": "text"
      },
      "source": [
        "<a href=\"https://colab.research.google.com/github/RUTUPARNk/Practised/blob/main/title_generator.ipynb\" target=\"_parent\"><img src=\"https://colab.research.google.com/assets/colab-badge.svg\" alt=\"Open In Colab\"/></a>"
      ]
    },
    {
      "cell_type": "code",
      "execution_count": null,
      "metadata": {
        "id": "JRd6d62Ri5P4"
      },
      "outputs": [],
      "source": [
        "import pandas as pd\n",
        "import string\n",
        "import numpy as np\n",
        "import json\n",
        "\n",
        "from keras.preprocessing.sequence import pad_sequences\n",
        "from keras.layers import Embedding, LSTM, Dense, Dropout\n",
        "from keras.preprocessing.text import Tokenizer\n",
        "from keras.callbacks import EarlyStopping\n",
        "from keras.models import Sequential\n",
        "import keras.utils as ku\n",
        "\n",
        "import tensorflow as tf\n",
        "tf.random.set_seed(2)\n",
        "from numpy.random import seed\n",
        "seed(1)\n",
        "\n",
        "df1 = pd.read_csv('USvideos.csv')\n",
        "df2 = pd.read_csv('CAvideos.csv')\n",
        "df3 = pd.read_csv('GBvideos.csv')\n",
        "\n",
        "data1 = json.load(open('US_category_id.json'))\n",
        "data2 = json.load(open('CA_category_id.json'))\n",
        "data3 = json.load(open('GB_category_id.json'))"
      ]
    },
    {
      "cell_type": "code",
      "source": [
        "def category_extractor(data):\n",
        "  i_d = [data['items'][i]['id'] for i in range(len(data['items']))]\n",
        "  title = [data['items'][i]['snippet'][\"title\"] for i in range(len(data['items']))]\n",
        "  i_d = list(map(int, i_d))\n",
        "  category = zip(i_d, title)\n",
        "  category = dict(category)\n",
        "  return category"
      ],
      "metadata": {
        "id": "n0f-NR4FjqAN"
      },
      "execution_count": null,
      "outputs": []
    },
    {
      "cell_type": "code",
      "source": [
        "df1['category_title'] = df1['category_id'].map(category_extractor(data1))\n",
        "df2['category_title'] = df2['category_id'].map(category_extractor(data2))\n",
        "df3['category_title'] = df3['category_id'].map(category_extractor(data3))\n",
        "\n",
        "df = pd.concat([df1, df2, df3], ignore_index=True)\n",
        "\n",
        "df = df.drop_duplicates('video_id')\n",
        "\n",
        "entertainment = df[df['category_title'] == 'Entertainment']['title']\n",
        "entertainment = entertainment.tolist()\n",
        "\n",
        "def clean_text(text):\n",
        "  text = ''.join(e for e in text if e not in string.punctuation).lower()\n",
        "\n",
        "  text = text.encode('utf8').decode('ascii', 'ignore')\n",
        "  return text\n",
        "corpus = [clean_text(e) for e in entertainment]"
      ],
      "metadata": {
        "id": "8PxLLcwKkLZj"
      },
      "execution_count": null,
      "outputs": []
    },
    {
      "cell_type": "code",
      "source": [
        "tokenizer = Tokenizer()\n",
        "def get_sequence_of_tokens(corpus):\n",
        "  tokenizer.fit_on_texts(corpus)\n",
        "  total_words = len(tokenizer.word_index) + 1\n",
        "  input_sequences = []\n",
        "  for line in corpus:\n",
        "    token_list = tokenizer.texts_to_sequences([line])[0]\n",
        "    for i in range(1, len(token_list)):\n",
        "      n_gram_sequence = token_list[:i+1]\n",
        "      input_sequence.append(n_gram_sequence)\n",
        "\n",
        "      return input_sequence, total_words\n",
        "inp_sequences, total_words = get_sequence_of_tokens(corpus)"
      ],
      "metadata": {
        "id": "h13m3Q98ju1x"
      },
      "execution_count": null,
      "outputs": []
    },
    {
      "cell_type": "code",
      "source": [
        "def generate_padded_sequence(input_sequences):\n",
        "  max_sequence_len = max([len(x) for x in input_sequences])\n",
        "  input_sequences = np.array(pad_sequences(input_sequences, maxlen=max_sequence_len, padding='pre'))\n",
        "  predictors, label = input_sequences[:, :-1], input_sequences[:, -1]\n",
        "  label = ku.to_categorical(label, num_classes=total_words)\n",
        "  return predictors, label, max_sequence_len\n",
        "\n",
        "predictors, label, max_sequence_len = generate_padded_sequences(inp_senquences)\n"
      ],
      "metadata": {
        "id": "D_RRGZ-VmEHw"
      },
      "execution_count": null,
      "outputs": []
    },
    {
      "cell_type": "code",
      "source": [
        "def create_model(max_sequence_len, total_words):\n",
        "  input_len = max_sequence_len - 1\n",
        "  model = Sequential()\n",
        "  model.add(Embedding(total_words, 10, input_length=input_len))\n",
        "  model.add(LSTM(100))\n",
        "  model.add(Dropout(0.1))\n",
        "  model.add(Dense(total_words, activation='softmax'))\n",
        "  model.compile(loss='categorical_crossentropy', optimizer='adam')\n",
        "  return model\n",
        "\n",
        "model = create_model(max_sequence_len, total_words)\n",
        "model.fit(predictors, label, epochs = 20, verbose=5)"
      ],
      "metadata": {
        "id": "mYmZuzlknDJH"
      },
      "execution_count": null,
      "outputs": []
    },
    {
      "cell_type": "code",
      "source": [
        "def generate_text(seed_text, next_words, model, max_sequence_len):\n",
        "  for _ in range(next_words):\n",
        "    token_list = tokenizer.texts_to_sequences([seed_text])[0]\n",
        "    token_list = pad_sequences([token_list], maxlen=max_sequence_len-1, padding='pre')\n",
        "    predicted = model.predict_classes(token_list, verbose=0)\n",
        "\n",
        "    output_word= \"\"\n",
        "    for word, index in tokenizer.word_index.items():\n",
        "      if index == predicted:\n",
        "        output_word = word\n",
        "        break\n",
        "        seed_text += \" \"+output_word\n",
        "        return seeed_text.title()\n",
        ""
      ],
      "metadata": {
        "id": "iWZEDXQ6nqCL"
      },
      "execution_count": null,
      "outputs": []
    }
  ]
}