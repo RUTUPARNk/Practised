{
  "nbformat": 4,
  "nbformat_minor": 0,
  "metadata": {
    "colab": {
      "provenance": [],
      "authorship_tag": "ABX9TyPm7yzt5x5ykreW8i5pogFw",
      "include_colab_link": true
    },
    "kernelspec": {
      "name": "python3",
      "display_name": "Python 3"
    },
    "language_info": {
      "name": "python"
    }
  },
  "cells": [
    {
      "cell_type": "markdown",
      "metadata": {
        "id": "view-in-github",
        "colab_type": "text"
      },
      "source": [
        "<a href=\"https://colab.research.google.com/github/RUTUPARNk/Practised/blob/main/Trading_OCr.ipynb\" target=\"_parent\"><img src=\"https://colab.research.google.com/assets/colab-badge.svg\" alt=\"Open In Colab\"/></a>"
      ]
    },
    {
      "cell_type": "code",
      "execution_count": 1,
      "metadata": {
        "colab": {
          "base_uri": "https://localhost:8080/"
        },
        "id": "7jKC6hQmUM6a",
        "outputId": "c160dbc9-4761-4205-89d0-ff572f2bddbd"
      },
      "outputs": [
        {
          "output_type": "stream",
          "name": "stdout",
          "text": [
            "Requirement already satisfied: kagglehub in /usr/local/lib/python3.12/dist-packages (0.3.13)\n",
            "Requirement already satisfied: packaging in /usr/local/lib/python3.12/dist-packages (from kagglehub) (25.0)\n",
            "Requirement already satisfied: pyyaml in /usr/local/lib/python3.12/dist-packages (from kagglehub) (6.0.2)\n",
            "Requirement already satisfied: requests in /usr/local/lib/python3.12/dist-packages (from kagglehub) (2.32.4)\n",
            "Requirement already satisfied: tqdm in /usr/local/lib/python3.12/dist-packages (from kagglehub) (4.67.1)\n",
            "Requirement already satisfied: charset_normalizer<4,>=2 in /usr/local/lib/python3.12/dist-packages (from requests->kagglehub) (3.4.4)\n",
            "Requirement already satisfied: idna<4,>=2.5 in /usr/local/lib/python3.12/dist-packages (from requests->kagglehub) (3.11)\n",
            "Requirement already satisfied: urllib3<3,>=1.21.1 in /usr/local/lib/python3.12/dist-packages (from requests->kagglehub) (2.5.0)\n",
            "Requirement already satisfied: certifi>=2017.4.17 in /usr/local/lib/python3.12/dist-packages (from requests->kagglehub) (2025.10.5)\n"
          ]
        }
      ],
      "source": [
        "!pip install kagglehub"
      ]
    },
    {
      "cell_type": "code",
      "source": [],
      "metadata": {
        "colab": {
          "base_uri": "https://localhost:8080/"
        },
        "id": "9G2c_0o6Ubro",
        "outputId": "31e50d53-bbde-4b9e-983e-c85e1991cbd8"
      },
      "execution_count": 4,
      "outputs": [
        {
          "output_type": "stream",
          "name": "stdout",
          "text": [
            "\n",
            "🔍 Exploring dataset structure...\n",
            "📁 test: 16 files\n"
          ]
        }
      ]
    },
    {
      "cell_type": "code",
      "source": [
        "!df -h"
      ],
      "metadata": {
        "colab": {
          "base_uri": "https://localhost:8080/"
        },
        "collapsed": true,
        "id": "PI7UD8ieUeqf",
        "outputId": "2e02367e-d1fe-4f57-b5d1-836845acc821"
      },
      "execution_count": 3,
      "outputs": [
        {
          "output_type": "stream",
          "name": "stdout",
          "text": [
            "Filesystem                                                                                                                    Size  Used Avail Use% Mounted on\n",
            "overlay                                                                                                                       108G   47G   62G  44% /\n",
            "tmpfs                                                                                                                          64M     0   64M   0% /dev\n",
            "shm                                                                                                                           5.8G     0  5.8G   0% /dev/shm\n",
            "/dev/root                                                                                                                     2.0G  1.2G  750M  62% /usr/sbin/docker-init\n",
            "/dev/sda1                                                                                                                      73G   52G   22G  71% /kaggle/input\n",
            "tmpfs                                                                                                                         6.4G  2.6M  6.4G   1% /var/colab\n",
            "tmpfs                                                                                                                         6.4G     0  6.4G   0% /proc/acpi\n",
            "tmpfs                                                                                                                         6.4G     0  6.4G   0% /proc/scsi\n",
            "tmpfs                                                                                                                         6.4G     0  6.4G   0% /sys/firmware\n",
            "us-east1--default-1--0.colab-filestore.com:/colab_filestore_instance/datasets/pdavpoojan/the-rvlcdip-dataset-test/versions/1   10T  1.9T  8.2T  19% /kaggle/input/the-rvlcdip-dataset-test\n"
          ]
        }
      ]
    },
    {
      "cell_type": "code",
      "source": [
        "!git clone https://github.com/PaddlePaddle/PaddleOCR.git"
      ],
      "metadata": {
        "colab": {
          "base_uri": "https://localhost:8080/"
        },
        "id": "W0TvKdU9VERD",
        "outputId": "620326da-0624-4df0-b8ae-22ef80428ae9"
      },
      "execution_count": 4,
      "outputs": [
        {
          "output_type": "stream",
          "name": "stdout",
          "text": [
            "fatal: destination path 'PaddleOCR' already exists and is not an empty directory.\n"
          ]
        }
      ]
    },
    {
      "cell_type": "code",
      "source": [
        "!cd PaddleOCR && pip install -r requirements.txt\n"
      ],
      "metadata": {
        "colab": {
          "base_uri": "https://localhost:8080/"
        },
        "id": "x_vr0oBpV9SJ",
        "outputId": "bf44f8c8-0d82-48f8-b52f-ace735194dc8"
      },
      "execution_count": 22,
      "outputs": [
        {
          "output_type": "stream",
          "name": "stdout",
          "text": [
            "Requirement already satisfied: shapely in /usr/local/lib/python3.12/dist-packages (from -r requirements.txt (line 1)) (2.1.2)\n",
            "Requirement already satisfied: scikit-image in /usr/local/lib/python3.12/dist-packages (from -r requirements.txt (line 2)) (0.25.2)\n",
            "Requirement already satisfied: pyclipper in /usr/local/lib/python3.12/dist-packages (from -r requirements.txt (line 3)) (1.3.0.post6)\n",
            "Requirement already satisfied: lmdb in /usr/local/lib/python3.12/dist-packages (from -r requirements.txt (line 4)) (1.7.5)\n",
            "Requirement already satisfied: tqdm in /usr/local/lib/python3.12/dist-packages (from -r requirements.txt (line 5)) (4.67.1)\n",
            "Requirement already satisfied: numpy in /usr/local/lib/python3.12/dist-packages (from -r requirements.txt (line 6)) (2.0.2)\n",
            "Requirement already satisfied: rapidfuzz in /usr/local/lib/python3.12/dist-packages (from -r requirements.txt (line 7)) (3.14.1)\n",
            "Requirement already satisfied: opencv-python in /usr/local/lib/python3.12/dist-packages (from -r requirements.txt (line 8)) (4.12.0.88)\n",
            "Requirement already satisfied: opencv-contrib-python in /usr/local/lib/python3.12/dist-packages (from -r requirements.txt (line 9)) (4.10.0.84)\n",
            "Requirement already satisfied: cython in /usr/local/lib/python3.12/dist-packages (from -r requirements.txt (line 10)) (3.0.12)\n",
            "Requirement already satisfied: Pillow in /usr/local/lib/python3.12/dist-packages (from -r requirements.txt (line 11)) (11.3.0)\n",
            "Requirement already satisfied: pyyaml in /usr/local/lib/python3.12/dist-packages (from -r requirements.txt (line 12)) (6.0.2)\n",
            "Requirement already satisfied: requests in /usr/local/lib/python3.12/dist-packages (from -r requirements.txt (line 13)) (2.32.4)\n",
            "Requirement already satisfied: albumentations in /usr/local/lib/python3.12/dist-packages (from -r requirements.txt (line 14)) (2.0.8)\n",
            "Requirement already satisfied: albucore in /usr/local/lib/python3.12/dist-packages (from -r requirements.txt (line 16)) (0.0.24)\n",
            "Requirement already satisfied: packaging in /usr/local/lib/python3.12/dist-packages (from -r requirements.txt (line 17)) (25.0)\n",
            "Requirement already satisfied: scipy>=1.11.4 in /usr/local/lib/python3.12/dist-packages (from scikit-image->-r requirements.txt (line 2)) (1.16.2)\n",
            "Requirement already satisfied: networkx>=3.0 in /usr/local/lib/python3.12/dist-packages (from scikit-image->-r requirements.txt (line 2)) (3.5)\n",
            "Requirement already satisfied: imageio!=2.35.0,>=2.33 in /usr/local/lib/python3.12/dist-packages (from scikit-image->-r requirements.txt (line 2)) (2.37.0)\n",
            "Requirement already satisfied: tifffile>=2022.8.12 in /usr/local/lib/python3.12/dist-packages (from scikit-image->-r requirements.txt (line 2)) (2025.10.16)\n",
            "Requirement already satisfied: lazy-loader>=0.4 in /usr/local/lib/python3.12/dist-packages (from scikit-image->-r requirements.txt (line 2)) (0.4)\n",
            "Requirement already satisfied: charset_normalizer<4,>=2 in /usr/local/lib/python3.12/dist-packages (from requests->-r requirements.txt (line 13)) (3.4.4)\n",
            "Requirement already satisfied: idna<4,>=2.5 in /usr/local/lib/python3.12/dist-packages (from requests->-r requirements.txt (line 13)) (3.11)\n",
            "Requirement already satisfied: urllib3<3,>=1.21.1 in /usr/local/lib/python3.12/dist-packages (from requests->-r requirements.txt (line 13)) (2.5.0)\n",
            "Requirement already satisfied: certifi>=2017.4.17 in /usr/local/lib/python3.12/dist-packages (from requests->-r requirements.txt (line 13)) (2025.10.5)\n",
            "Requirement already satisfied: pydantic>=2.9.2 in /usr/local/lib/python3.12/dist-packages (from albumentations->-r requirements.txt (line 14)) (2.11.10)\n",
            "Requirement already satisfied: opencv-python-headless>=4.9.0.80 in /usr/local/lib/python3.12/dist-packages (from albumentations->-r requirements.txt (line 14)) (4.12.0.88)\n",
            "Requirement already satisfied: stringzilla>=3.10.4 in /usr/local/lib/python3.12/dist-packages (from albucore->-r requirements.txt (line 16)) (4.2.1)\n",
            "Requirement already satisfied: simsimd>=5.9.2 in /usr/local/lib/python3.12/dist-packages (from albucore->-r requirements.txt (line 16)) (6.5.3)\n",
            "Requirement already satisfied: annotated-types>=0.6.0 in /usr/local/lib/python3.12/dist-packages (from pydantic>=2.9.2->albumentations->-r requirements.txt (line 14)) (0.7.0)\n",
            "Requirement already satisfied: pydantic-core==2.33.2 in /usr/local/lib/python3.12/dist-packages (from pydantic>=2.9.2->albumentations->-r requirements.txt (line 14)) (2.33.2)\n",
            "Requirement already satisfied: typing-extensions>=4.12.2 in /usr/local/lib/python3.12/dist-packages (from pydantic>=2.9.2->albumentations->-r requirements.txt (line 14)) (4.15.0)\n",
            "Requirement already satisfied: typing-inspection>=0.4.0 in /usr/local/lib/python3.12/dist-packages (from pydantic>=2.9.2->albumentations->-r requirements.txt (line 14)) (0.4.2)\n"
          ]
        }
      ]
    },
    {
      "cell_type": "code",
      "source": [
        "import os\n",
        "import json\n",
        "from PIL import Image\n",
        "from transformers import pipeline\n",
        "import requests"
      ],
      "metadata": {
        "id": "SqNu4V2ZWpuf"
      },
      "execution_count": 23,
      "outputs": []
    },
    {
      "cell_type": "code",
      "source": [
        "# EasyOCR Pipeline - Process only 10 TIFF images\n",
        "!pip install easyocr\n",
        "\n",
        "import easyocr\n",
        "import os\n",
        "import re\n",
        "import cv2\n",
        "import numpy as np\n",
        "from PIL import Image\n",
        "from transformers import pipeline\n",
        "\n",
        "class EasyOCRInvoiceProcessor:\n",
        "    def __init__(self):\n",
        "        print(\"🔄 Initializing EasyOCR...\")\n",
        "        self.reader = easyocr.Reader(['en'])\n",
        "        self.parser = pipeline(\"text2text-generation\", model=\"google/flan-t5-base\")\n",
        "        print(\"✅ EasyOCR ready!\")\n",
        "\n",
        "    def extract_text(self, image_path):\n",
        "        try:\n",
        "            # Run OCR with optimized settings for invoices\n",
        "            results = self.reader.readtext(\n",
        "                image_path,\n",
        "                detail=1,\n",
        "                paragraph=False,\n",
        "                min_size=10,\n",
        "                contrast_ths=0.1,\n",
        "                adjust_contrast=0.3\n",
        "            )\n",
        "\n",
        "            if not results:\n",
        "                return None\n",
        "\n",
        "            # Extract only high-confidence text\n",
        "            high_confidence_text = \"\"\n",
        "            for bbox, text, confidence in results:\n",
        "                if confidence > 0.4:  # Only keep decent confidence detections\n",
        "                    high_confidence_text += text + \" \"\n",
        "\n",
        "            return high_confidence_text.strip() if high_confidence_text else None\n",
        "\n",
        "        except Exception as e:\n",
        "            print(f\"  ❌ OCR Error: {e}\")\n",
        "            return None\n",
        "\n",
        "    def extract_total(self, text):\n",
        "        if not text:\n",
        "            return None\n",
        "\n",
        "        # Improved regex patterns for invoice totals\n",
        "        patterns = [\n",
        "            r'total[\\s:]*[\\$]?[\\s]*([\\d,]+\\.?\\d{2})',\n",
        "            r'grand[\\s]*total[\\s:]*[\\$]?[\\s]*([\\d,]+\\.?\\d{2})',\n",
        "            r'amount[\\s:]*due[\\s:]*[\\$]?[\\s]*([\\d,]+\\.?\\d{2})',\n",
        "            r'balance[\\s:]*due[\\s:]*[\\$]?[\\s]*([\\d,]+\\.?\\d{2})',\n",
        "            r'\\$[\\s]*([\\d,]+\\.?\\d{2})',\n",
        "            r'total.*?(\\d{1,3}(?:,\\d{3})*\\.\\d{2})',\n",
        "        ]\n",
        "\n",
        "        all_matches = []\n",
        "        for pattern in patterns:\n",
        "            matches = re.findall(pattern, text.lower())\n",
        "            for match in matches:\n",
        "                try:\n",
        "                    amount = float(match.replace(',', ''))\n",
        "                    all_matches.append(amount)\n",
        "                except:\n",
        "                    continue\n",
        "\n",
        "        if all_matches:\n",
        "            # Take the largest amount (usually the total)\n",
        "            return max(all_matches)\n",
        "\n",
        "        return None\n",
        "\n",
        "# ========== MAIN PROCESSING - ONLY 10 FILES ==========\n",
        "\n",
        "print(\"🚀 Starting EasyOCR Invoice Processing (10 files only)\")\n",
        "print(\"=\" * 60)\n",
        "\n",
        "# Find directory\n",
        "invoice_dir = None\n",
        "possible_paths = [\n",
        "    \"/kaggle/input/the-rvlcdip-dataset-test/test/invoice\",\n",
        "    \"/kaggle/input/the-rvlcdip-dataset-test/invoice\",\n",
        "    \"/kaggle/input/the-rvlcdip-dataset-test/test\",\n",
        "    \"/kaggle/input/the-rvlcdip-dataset-test\",\n",
        "]\n",
        "\n",
        "for path in possible_paths:\n",
        "    if os.path.exists(path):\n",
        "        invoice_dir = path\n",
        "        print(f\"✅ Found directory: {path}\")\n",
        "        break\n",
        "\n",
        "if not invoice_dir:\n",
        "    print(\"❌ Directory not found\")\n",
        "    exit()\n",
        "\n",
        "# Get ONLY .tif files and take FIRST 10\n",
        "tif_files = [f for f in os.listdir(invoice_dir) if f.lower().endswith('.tif')]\n",
        "print(f\"📁 Found {len(tif_files)} TIFF files total\")\n",
        "print(f\"🔬 Processing FIRST 10 files only\")\n",
        "\n",
        "# Take only first 10 files\n",
        "files_to_process = tif_files[:10]\n",
        "print(f\"📋 Files to process: {files_to_process}\")\n",
        "\n",
        "# ========== PROCESS THE 10 FILES ==========\n",
        "\n",
        "processor = EasyOCRInvoiceProcessor()\n",
        "\n",
        "print(f\"\\n🎯 PROCESSING {len(files_to_process)} FILES:\")\n",
        "print(\"=\" * 60)\n",
        "\n",
        "results = []\n",
        "\n",
        "for i, filename in enumerate(files_to_process, 1):\n",
        "    image_path = os.path.join(invoice_dir, filename)\n",
        "\n",
        "    print(f\"\\n{i}. 📄 {filename}\")\n",
        "    print(\"-\" * 40)\n",
        "\n",
        "    try:\n",
        "        # Quick image info\n",
        "        with Image.open(image_path) as img:\n",
        "            print(f\"   Size: {img.size}px, Mode: {img.mode}\")\n",
        "\n",
        "        # Extract text\n",
        "        text = processor.extract_text(image_path)\n",
        "\n",
        "        if text:\n",
        "            # Show first 100 chars of extracted text\n",
        "            print(f\"   📝 Text: {text[:100]}...\")\n",
        "\n",
        "            # Extract total\n",
        "            total = processor.extract_total(text)\n",
        "\n",
        "            if total:\n",
        "                print(f\"   💰 TOTAL: ${total:.2f}\")\n",
        "                results.append((filename, total, \"SUCCESS\"))\n",
        "            else:\n",
        "                print(f\"   ❌ No total found in text\")\n",
        "                results.append((filename, None, \"NO TOTAL\"))\n",
        "        else:\n",
        "            print(f\"   🚫 No text extracted\")\n",
        "            results.append((filename, None, \"NO TEXT\"))\n",
        "\n",
        "    except Exception as e:\n",
        "        print(f\"   💥 ERROR: {e}\")\n",
        "        results.append((filename, None, f\"ERROR: {e}\"))\n",
        "\n",
        "# ========== FINAL SUMMARY ==========\n",
        "\n",
        "print(f\"\\n\" + \"=\" * 60)\n",
        "print(\"📊 FINAL RESULTS (10 files)\")\n",
        "print(\"=\" * 60)\n",
        "\n",
        "successful = len([r for r in results if r[2] == \"SUCCESS\"])\n",
        "no_total = len([r for r in results if r[2] == \"NO TOTAL\"])\n",
        "no_text = len([r for r in results if r[2] == \"NO TEXT\"])\n",
        "errors = len([r for r in results if \"ERROR\" in r[2]])\n",
        "\n",
        "print(f\"✅ Successful: {successful}/10\")\n",
        "print(f\"❌ No total found: {no_total}/10\")\n",
        "print(f\"🚫 No text: {no_text}/10\")\n",
        "print(f\"💥 Errors: {errors}/10\")\n",
        "\n",
        "if successful > 0:\n",
        "    success_rate = (successful / 10) * 100\n",
        "    print(f\"🎯 Success rate: {success_rate:.0f}%\")\n",
        "\n",
        "    print(f\"\\n💰 EXTRACTED TOTALS:\")\n",
        "    for filename, total, status in results:\n",
        "        if status == \"SUCCESS\":\n",
        "            print(f\"   ✅ {filename}: ${total:.2f}\")\n",
        "\n",
        "print(\"=\" * 60)\n",
        "\n",
        "# Save simple results\n",
        "with open('invoice_totals_10_files.txt', 'w') as f:\n",
        "    f.write(\"Invoice Totals - 10 Files\\n\")\n",
        "    f.write(\"=\" * 30 + \"\\n\")\n",
        "    for filename, total, status in results:\n",
        "        if status == \"SUCCESS\":\n",
        "            f.write(f\"✅ {filename}: ${total:.2f}\\n\")\n",
        "        else:\n",
        "            f.write(f\"❌ {filename}: {status}\\n\")\n",
        "\n",
        "print(\"💾 Results saved to 'invoice_totals_10_files.txt'\")\n",
        "print(\"✅ Processing complete!\")"
      ],
      "metadata": {
        "colab": {
          "base_uri": "https://localhost:8080/"
        },
        "collapsed": true,
        "id": "rjJhB9FaWvFo",
        "outputId": "c0dc3461-3daf-48b0-ddfb-b3c39d9d290b"
      },
      "execution_count": 6,
      "outputs": [
        {
          "output_type": "stream",
          "name": "stdout",
          "text": [
            "Requirement already satisfied: easyocr in /usr/local/lib/python3.12/dist-packages (1.7.2)\n",
            "Requirement already satisfied: torch in /usr/local/lib/python3.12/dist-packages (from easyocr) (2.8.0+cu126)\n",
            "Requirement already satisfied: torchvision>=0.5 in /usr/local/lib/python3.12/dist-packages (from easyocr) (0.23.0+cu126)\n",
            "Requirement already satisfied: opencv-python-headless in /usr/local/lib/python3.12/dist-packages (from easyocr) (4.11.0.86)\n",
            "Requirement already satisfied: scipy in /usr/local/lib/python3.12/dist-packages (from easyocr) (1.16.2)\n",
            "Requirement already satisfied: numpy in /usr/local/lib/python3.12/dist-packages (from easyocr) (2.0.2)\n",
            "Requirement already satisfied: Pillow in /usr/local/lib/python3.12/dist-packages (from easyocr) (10.4.0)\n",
            "Requirement already satisfied: scikit-image in /usr/local/lib/python3.12/dist-packages (from easyocr) (0.25.2)\n",
            "Requirement already satisfied: python-bidi in /usr/local/lib/python3.12/dist-packages (from easyocr) (0.6.7)\n",
            "Requirement already satisfied: PyYAML in /usr/local/lib/python3.12/dist-packages (from easyocr) (6.0.2)\n",
            "Requirement already satisfied: Shapely in /usr/local/lib/python3.12/dist-packages (from easyocr) (2.1.2)\n",
            "Requirement already satisfied: pyclipper in /usr/local/lib/python3.12/dist-packages (from easyocr) (1.3.0.post6)\n",
            "Requirement already satisfied: ninja in /usr/local/lib/python3.12/dist-packages (from easyocr) (1.13.0)\n",
            "Requirement already satisfied: filelock in /usr/local/lib/python3.12/dist-packages (from torch->easyocr) (3.20.0)\n",
            "Requirement already satisfied: typing-extensions>=4.10.0 in /usr/local/lib/python3.12/dist-packages (from torch->easyocr) (4.15.0)\n",
            "Requirement already satisfied: setuptools in /usr/local/lib/python3.12/dist-packages (from torch->easyocr) (75.2.0)\n",
            "Requirement already satisfied: sympy>=1.13.3 in /usr/local/lib/python3.12/dist-packages (from torch->easyocr) (1.13.3)\n",
            "Requirement already satisfied: networkx in /usr/local/lib/python3.12/dist-packages (from torch->easyocr) (3.5)\n",
            "Requirement already satisfied: jinja2 in /usr/local/lib/python3.12/dist-packages (from torch->easyocr) (3.1.6)\n",
            "Requirement already satisfied: fsspec in /usr/local/lib/python3.12/dist-packages (from torch->easyocr) (2025.3.0)\n",
            "Requirement already satisfied: nvidia-cuda-nvrtc-cu12==12.6.77 in /usr/local/lib/python3.12/dist-packages (from torch->easyocr) (12.6.77)\n",
            "Requirement already satisfied: nvidia-cuda-runtime-cu12==12.6.77 in /usr/local/lib/python3.12/dist-packages (from torch->easyocr) (12.6.77)\n",
            "Requirement already satisfied: nvidia-cuda-cupti-cu12==12.6.80 in /usr/local/lib/python3.12/dist-packages (from torch->easyocr) (12.6.80)\n",
            "Requirement already satisfied: nvidia-cudnn-cu12==9.10.2.21 in /usr/local/lib/python3.12/dist-packages (from torch->easyocr) (9.10.2.21)\n",
            "Requirement already satisfied: nvidia-cublas-cu12==12.6.4.1 in /usr/local/lib/python3.12/dist-packages (from torch->easyocr) (12.6.4.1)\n",
            "Requirement already satisfied: nvidia-cufft-cu12==11.3.0.4 in /usr/local/lib/python3.12/dist-packages (from torch->easyocr) (11.3.0.4)\n",
            "Requirement already satisfied: nvidia-curand-cu12==10.3.7.77 in /usr/local/lib/python3.12/dist-packages (from torch->easyocr) (10.3.7.77)\n",
            "Requirement already satisfied: nvidia-cusolver-cu12==11.7.1.2 in /usr/local/lib/python3.12/dist-packages (from torch->easyocr) (11.7.1.2)\n",
            "Requirement already satisfied: nvidia-cusparse-cu12==12.5.4.2 in /usr/local/lib/python3.12/dist-packages (from torch->easyocr) (12.5.4.2)\n",
            "Requirement already satisfied: nvidia-cusparselt-cu12==0.7.1 in /usr/local/lib/python3.12/dist-packages (from torch->easyocr) (0.7.1)\n",
            "Requirement already satisfied: nvidia-nccl-cu12==2.27.3 in /usr/local/lib/python3.12/dist-packages (from torch->easyocr) (2.27.3)\n",
            "Requirement already satisfied: nvidia-nvtx-cu12==12.6.77 in /usr/local/lib/python3.12/dist-packages (from torch->easyocr) (12.6.77)\n",
            "Requirement already satisfied: nvidia-nvjitlink-cu12==12.6.85 in /usr/local/lib/python3.12/dist-packages (from torch->easyocr) (12.6.85)\n",
            "Requirement already satisfied: nvidia-cufile-cu12==1.11.1.6 in /usr/local/lib/python3.12/dist-packages (from torch->easyocr) (1.11.1.6)\n",
            "Requirement already satisfied: triton==3.4.0 in /usr/local/lib/python3.12/dist-packages (from torch->easyocr) (3.4.0)\n",
            "Requirement already satisfied: imageio!=2.35.0,>=2.33 in /usr/local/lib/python3.12/dist-packages (from scikit-image->easyocr) (2.37.0)\n",
            "Requirement already satisfied: tifffile>=2022.8.12 in /usr/local/lib/python3.12/dist-packages (from scikit-image->easyocr) (2025.10.16)\n",
            "Requirement already satisfied: packaging>=21 in /usr/local/lib/python3.12/dist-packages (from scikit-image->easyocr) (25.0)\n",
            "Requirement already satisfied: lazy-loader>=0.4 in /usr/local/lib/python3.12/dist-packages (from scikit-image->easyocr) (0.4)\n",
            "Requirement already satisfied: mpmath<1.4,>=1.1.0 in /usr/local/lib/python3.12/dist-packages (from sympy>=1.13.3->torch->easyocr) (1.3.0)\n",
            "Requirement already satisfied: MarkupSafe>=2.0 in /usr/local/lib/python3.12/dist-packages (from jinja2->torch->easyocr) (3.0.3)\n"
          ]
        },
        {
          "output_type": "stream",
          "name": "stderr",
          "text": [
            "WARNING:easyocr.easyocr:Neither CUDA nor MPS are available - defaulting to CPU. Note: This module is much faster with a GPU.\n"
          ]
        },
        {
          "output_type": "stream",
          "name": "stdout",
          "text": [
            "🚀 Starting EasyOCR Invoice Processing (10 files only)\n",
            "============================================================\n",
            "✅ Found directory: /kaggle/input/the-rvlcdip-dataset-test/test/invoice\n",
            "📁 Found 2477 TIFF files total\n",
            "🔬 Processing FIRST 10 files only\n",
            "📋 Files to process: ['518254491+-4510.tif', '00555621.tif', '518494145+-4146.tif', '2028724139.tif', '83554925.tif', '2024526337.tif', '2028697451.tif', '03724982.tif', '2063178328.tif', '2028748016.tif']\n",
            "🔄 Initializing EasyOCR...\n"
          ]
        },
        {
          "output_type": "stream",
          "name": "stderr",
          "text": [
            "Device set to use cpu\n"
          ]
        },
        {
          "output_type": "stream",
          "name": "stdout",
          "text": [
            "✅ EasyOCR ready!\n",
            "\n",
            "🎯 PROCESSING 10 FILES:\n",
            "============================================================\n",
            "\n",
            "1. 📄 518254491+-4510.tif\n",
            "----------------------------------------\n",
            "   Size: (754, 1000)px, Mode: L\n"
          ]
        },
        {
          "output_type": "stream",
          "name": "stderr",
          "text": [
            "/usr/local/lib/python3.12/dist-packages/torch/utils/data/dataloader.py:666: UserWarning: 'pin_memory' argument is set as true but no accelerator is found, then device pinned memory won't be used.\n",
            "  warnings.warn(warn_msg)\n"
          ]
        },
        {
          "output_type": "stream",
          "name": "stdout",
          "text": [
            "   📝 Text: vly RANSHEIER SPELLHAN Professional Corporation One Capitol Street P 0 Box 600 Concord _ NH 03302-06...\n",
            "   💰 TOTAL: $775.45\n",
            "\n",
            "2. 📄 00555621.tif\n",
            "----------------------------------------\n",
            "   Size: (772, 1000)px, Mode: L\n"
          ]
        },
        {
          "output_type": "stream",
          "name": "stderr",
          "text": [
            "/usr/local/lib/python3.12/dist-packages/torch/utils/data/dataloader.py:666: UserWarning: 'pin_memory' argument is set as true but no accelerator is found, then device pinned memory won't be used.\n",
            "  warnings.warn(warn_msg)\n"
          ]
        },
        {
          "output_type": "stream",
          "name": "stdout",
          "text": [
            "   📝 Text: VA_ 22046 Invoice No.21992 893-5400 70 Dec 04 INVOICE Date: To: The Tobacco Institute Atto: Mrs Kitt...\n",
            "   💰 TOTAL: $848364.47\n",
            "\n",
            "3. 📄 518494145+-4146.tif\n",
            "----------------------------------------\n",
            "   Size: (754, 1000)px, Mode: L\n"
          ]
        },
        {
          "output_type": "stream",
          "name": "stderr",
          "text": [
            "/usr/local/lib/python3.12/dist-packages/torch/utils/data/dataloader.py:666: UserWarning: 'pin_memory' argument is set as true but no accelerator is found, then device pinned memory won't be used.\n",
            "  warnings.warn(warn_msg)\n"
          ]
        },
        {
          "output_type": "stream",
          "name": "stdout",
          "text": [
            "   📝 Text: 2270400 10/03/96 277-0009 40-01 Box 2959, Winctan-Salom; NC 27102 INVOICE Pooge (8001 862-4338 Roler...\n",
            "   ❌ No total found in text\n",
            "\n",
            "4. 📄 2028724139.tif\n",
            "----------------------------------------\n",
            "   Size: (777, 1000)px, Mode: L\n"
          ]
        },
        {
          "output_type": "stream",
          "name": "stderr",
          "text": [
            "/usr/local/lib/python3.12/dist-packages/torch/utils/data/dataloader.py:666: UserWarning: 'pin_memory' argument is set as true but no accelerator is found, then device pinned memory won't be used.\n",
            "  warnings.warn(warn_msg)\n"
          ]
        },
        {
          "output_type": "stream",
          "name": "stdout",
          "text": [
            "   📝 Text: 3 3 3 1 3 3 ; 9 1 h 1 8 8 V 6 1 3 8 0 li 1 1 8 Fa 2 4 8 1 1 0 1 8 4 #H 4 2 3 J # 1 aeqister 1...\n",
            "   ❌ No total found in text\n",
            "\n",
            "5. 📄 83554925.tif\n",
            "----------------------------------------\n",
            "   Size: (754, 1000)px, Mode: L\n"
          ]
        },
        {
          "output_type": "stream",
          "name": "stderr",
          "text": [
            "/usr/local/lib/python3.12/dist-packages/torch/utils/data/dataloader.py:666: UserWarning: 'pin_memory' argument is set as true but no accelerator is found, then device pinned memory won't be used.\n",
            "  warnings.warn(warn_msg)\n"
          ]
        },
        {
          "output_type": "stream",
          "name": "stdout",
          "text": [
            "   📝 Text: IEMPO I Remittance copy Invoice ForM With Paymen DATE INVOICE NO NEWSMONITORING NETWORE 5/5/97 5709 ...\n",
            "   ❌ No total found in text\n",
            "\n",
            "6. 📄 2024526337.tif\n",
            "----------------------------------------\n",
            "   Size: (777, 1000)px, Mode: L\n"
          ]
        },
        {
          "output_type": "stream",
          "name": "stderr",
          "text": [
            "/usr/local/lib/python3.12/dist-packages/torch/utils/data/dataloader.py:666: UserWarning: 'pin_memory' argument is set as true but no accelerator is found, then device pinned memory won't be used.\n",
            "  warnings.warn(warn_msg)\n"
          ]
        },
        {
          "output_type": "stream",
          "name": "stdout",
          "text": [
            "   📝 Text: i201 PENNSYLVANIC AVENUE; #ashington 20 EMPLOYER identification No 10394 8841 STATEMENT PHILIP MQBRI...\n",
            "   ❌ No total found in text\n",
            "\n",
            "7. 📄 2028697451.tif\n",
            "----------------------------------------\n",
            "   Size: (777, 1000)px, Mode: L\n"
          ]
        },
        {
          "output_type": "stream",
          "name": "stderr",
          "text": [
            "/usr/local/lib/python3.12/dist-packages/torch/utils/data/dataloader.py:666: UserWarning: 'pin_memory' argument is set as true but no accelerator is found, then device pinned memory won't be used.\n",
            "  warnings.warn(warn_msg)\n"
          ]
        },
        {
          "output_type": "stream",
          "name": "stdout",
          "text": [
            "   📝 Text: USINE (FRANCE) UCEE420 558 F PP PLZ 781 3302 RRANCE 570 24/01/91 24/01/91 39021OOOOOOON 10 1330 N BE...\n",
            "   💰 TOTAL: $108.00\n",
            "\n",
            "8. 📄 03724982.tif\n",
            "----------------------------------------\n",
            "   Size: (766, 1000)px, Mode: L\n"
          ]
        },
        {
          "output_type": "stream",
          "name": "stderr",
          "text": [
            "/usr/local/lib/python3.12/dist-packages/torch/utils/data/dataloader.py:666: UserWarning: 'pin_memory' argument is set as true but no accelerator is found, then device pinned memory won't be used.\n",
            "  warnings.warn(warn_msg)\n"
          ]
        },
        {
          "output_type": "stream",
          "name": "stdout",
          "text": [
            "   📝 Text: CovINGTON BURLING 20006 (202] 5 7 ACCOUNT No, 11,486 DATE July 9 , 1980 AMERICAN BRANDS IGCORPORATED...\n",
            "   ❌ No total found in text\n",
            "\n",
            "9. 📄 2063178328.tif\n",
            "----------------------------------------\n",
            "   Size: (754, 1000)px, Mode: L\n"
          ]
        },
        {
          "output_type": "stream",
          "name": "stderr",
          "text": [
            "/usr/local/lib/python3.12/dist-packages/torch/utils/data/dataloader.py:666: UserWarning: 'pin_memory' argument is set as true but no accelerator is found, then device pinned memory won't be used.\n",
            "  warnings.warn(warn_msg)\n"
          ]
        },
        {
          "output_type": "stream",
          "name": "stdout",
          "text": [
            "   📝 Text: FoR ACCOUNTING USE ONLY PHILIP MORRIS INCORPORATED V0 U CHER (omit if No SPECIFIC DATE REQUIRED DATE...\n",
            "   ❌ No total found in text\n",
            "\n",
            "10. 📄 2028748016.tif\n",
            "----------------------------------------\n",
            "   Size: (777, 1000)px, Mode: L\n"
          ]
        },
        {
          "output_type": "stream",
          "name": "stderr",
          "text": [
            "/usr/local/lib/python3.12/dist-packages/torch/utils/data/dataloader.py:666: UserWarning: 'pin_memory' argument is set as true but no accelerator is found, then device pinned memory won't be used.\n",
            "  warnings.warn(warn_msg)\n"
          ]
        },
        {
          "output_type": "stream",
          "name": "stdout",
          "text": [
            "   📝 Text: FAKTUUR FSANDVIK 940117 132363 26355000 Buhande d door FE Franc ECCERHONT Heceir , MAIL registe\" Fak...\n",
            "   ❌ No total found in text\n",
            "\n",
            "============================================================\n",
            "📊 FINAL RESULTS (10 files)\n",
            "============================================================\n",
            "✅ Successful: 3/10\n",
            "❌ No total found: 7/10\n",
            "🚫 No text: 0/10\n",
            "💥 Errors: 0/10\n",
            "🎯 Success rate: 30%\n",
            "\n",
            "💰 EXTRACTED TOTALS:\n",
            "   ✅ 518254491+-4510.tif: $775.45\n",
            "   ✅ 00555621.tif: $848364.47\n",
            "   ✅ 2028697451.tif: $108.00\n",
            "============================================================\n",
            "💾 Results saved to 'invoice_totals_10_files.txt'\n",
            "✅ Processing complete!\n"
          ]
        }
      ]
    }
  ]
}