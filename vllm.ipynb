{
  "nbformat": 4,
  "nbformat_minor": 0,
  "metadata": {
    "colab": {
      "provenance": [],
      "authorship_tag": "ABX9TyMjHSpepzMhz8PyjKwTVIhh",
      "include_colab_link": true
    },
    "kernelspec": {
      "name": "python3",
      "display_name": "Python 3"
    },
    "language_info": {
      "name": "python"
    }
  },
  "cells": [
    {
      "cell_type": "markdown",
      "metadata": {
        "id": "view-in-github",
        "colab_type": "text"
      },
      "source": [
        "<a href=\"https://colab.research.google.com/github/RUTUPARNk/Practised/blob/main/vllm.ipynb\" target=\"_parent\"><img src=\"https://colab.research.google.com/assets/colab-badge.svg\" alt=\"Open In Colab\"/></a>"
      ]
    },
    {
      "cell_type": "code",
      "source": [
        "import kagglehub\n",
        "\n",
        "# Download latest version\n",
        "path = kagglehub.dataset_download(\"pdavpoojan/the-rvlcdip-dataset-test\")\n",
        "\n",
        "print(\"Path to dataset files:\", path)"
      ],
      "metadata": {
        "colab": {
          "base_uri": "https://localhost:8080/"
        },
        "id": "vLL07FC3XQbf",
        "outputId": "f628bb6c-1afb-4634-9f93-1daad8baba03"
      },
      "execution_count": 1,
      "outputs": [
        {
          "output_type": "stream",
          "name": "stdout",
          "text": [
            "Downloading from https://www.kaggle.com/api/v1/datasets/download/pdavpoojan/the-rvlcdip-dataset-test?dataset_version_number=1...\n"
          ]
        },
        {
          "output_type": "stream",
          "name": "stderr",
          "text": [
            "100%|██████████| 3.62G/3.62G [00:44<00:00, 86.6MB/s]"
          ]
        },
        {
          "output_type": "stream",
          "name": "stdout",
          "text": [
            "Extracting files...\n"
          ]
        },
        {
          "output_type": "stream",
          "name": "stderr",
          "text": [
            "\n"
          ]
        },
        {
          "output_type": "stream",
          "name": "stdout",
          "text": [
            "Path to dataset files: /root/.cache/kagglehub/datasets/pdavpoojan/the-rvlcdip-dataset-test/versions/1\n"
          ]
        }
      ]
    },
    {
      "cell_type": "code",
      "source": [
        "# Test Groq connection separately\n",
        "from groq import Groq\n",
        "\n",
        "def test_groq_connection():\n",
        "    client = Groq(api_key=\"gsk34343\")  # Make sure this is correct\n",
        "\n",
        "    test_prompt = \"What is 2+2? Answer with just the number.\"\n",
        "\n",
        "    try:\n",
        "        response = client.chat.completions.create(\n",
        "            messages=[{\"role\": \"user\", \"content\": test_prompt}],\n",
        "            model=\"llama-3.1-8b-instant\",\n",
        "            temperature=0.1,\n",
        "            max_tokens=10\n",
        "        )\n",
        "        print(f\"✅ Groq Test Response: '{response.choices[0].message.content}'\")\n",
        "        return True\n",
        "    except Exception as e:\n",
        "        print(f\"❌ Groq Test Failed: {e}\")\n",
        "        return False\n",
        "\n",
        "# Run this test first\n",
        "test_groq_connection()"
      ],
      "metadata": {
        "colab": {
          "base_uri": "https://localhost:8080/"
        },
        "id": "PCypbmYSjlgh",
        "outputId": "18d8e248-d390-4bc3-af73-63dd648ff7c7"
      },
      "execution_count": 11,
      "outputs": [
        {
          "output_type": "stream",
          "name": "stdout",
          "text": [
            "✅ Groq Test Response: '4'\n"
          ]
        },
        {
          "output_type": "execute_result",
          "data": {
            "text/plain": [
              "True"
            ]
          },
          "metadata": {},
          "execution_count": 11
        }
      ]
    },
    {
      "cell_type": "code",
      "source": [
        "# FINAL WORKING Groq Invoice Processor\n",
        "!pip install easyocr groq wandb\n",
        "import groq\n",
        "import os\n",
        "import re\n",
        "import wandb\n",
        "from datetime import datetime\n",
        "from PIL import Image\n",
        "\n",
        "class WorkingGroqInvoiceProcessor:\n",
        "    def __init__(self):\n",
        "        print(\"🔄 Initializing EasyOCR and Groq Client...\")\n",
        "        import easyocr\n",
        "        self.reader = easyocr.Reader(['en'])\n",
        "\n",
        "        # Use the working model from your test\n",
        "        self.client = groq.Groq(api_key=\"gsk_\")  # Your working key\n",
        "        print(\"✅ Groq Client ready with llama-3.1-8b-instant!\")\n",
        "\n",
        "    def extract_text(self, image_path):\n",
        "        \"\"\"Extract text using EasyOCR\"\"\"\n",
        "        try:\n",
        "            results = self.reader.readtext(image_path, detail=1, paragraph=False)\n",
        "\n",
        "            if not results:\n",
        "                return None\n",
        "\n",
        "            # Combine all text with confidence\n",
        "            all_text = \" \".join([text for _, text, conf in results if conf > 0.3])\n",
        "            return all_text.strip() if all_text else None\n",
        "\n",
        "        except Exception as e:\n",
        "            print(f\"  ❌ OCR Error: {e}\")\n",
        "            return None\n",
        "\n",
        "    def extract_total_with_groq(self, text):\n",
        "        \"\"\"Use the working Groq model to extract total amount\"\"\"\n",
        "        if not text:\n",
        "            return None\n",
        "\n",
        "        # Clean and limit text to avoid token limits\n",
        "        clean_text = ' '.join(text.split()[:150])  # Limit tokens\n",
        "\n",
        "        prompt = f\"\"\"\n",
        "        EXTRACT THE TOTAL AMOUNT FROM THIS INVOICE TEXT.\n",
        "        RETURN ONLY THE NUMERIC VALUE, NO EXPLANATION, NO CURRENCY SYMBOLS.\n",
        "\n",
        "        INVOICE TEXT: \"{clean_text}\"\n",
        "\n",
        "        IMPORTANT:\n",
        "        - Look for patterns like \"Total\", \"Amount Due\", \"Balance\", \"Grand Total\"\n",
        "        - Return only the number like 123.45\n",
        "        - If no total found, return 0\n",
        "\n",
        "        NUMBER:\n",
        "        \"\"\"\n",
        "\n",
        "        try:\n",
        "            print(f\"  🤖 Calling Groq API...\")\n",
        "            response = self.client.chat.completions.create(\n",
        "                messages=[{\"role\": \"user\", \"content\": prompt}],\n",
        "                model=\"llama-3.1-8b-instant\",  # Use the working model\n",
        "                temperature=0.0,  # Zero temperature for consistent output\n",
        "                max_tokens=15,\n",
        "                timeout=30\n",
        "            )\n",
        "\n",
        "            result_text = response.choices[0].message.content.strip()\n",
        "            print(f\"  📨 Groq Raw Response: '{result_text}'\")\n",
        "\n",
        "            # Extract number from response\n",
        "            numbers = re.findall(r'\\d+[.,]?\\d*', result_text)\n",
        "            if numbers:\n",
        "                # Clean the number (handle commas, etc.)\n",
        "                clean_num = numbers[0].replace(',', '').replace(' ', '')\n",
        "                try:\n",
        "                    amount = float(clean_num)\n",
        "                    if amount > 0:\n",
        "                        print(f\"  ✅ Groq Success: ${amount:.2f}\")\n",
        "                        return amount\n",
        "                except ValueError:\n",
        "                    pass\n",
        "\n",
        "            print(f\"  ❌ Groq failed to extract valid number\")\n",
        "            return None\n",
        "\n",
        "        except Exception as e:\n",
        "            print(f\"  💥 Groq API Error: {e}\")\n",
        "            return None\n",
        "\n",
        "    def extract_total_with_regex(self, text):\n",
        "        \"\"\"Improved regex patterns as fallback\"\"\"\n",
        "        if not text:\n",
        "            return None\n",
        "\n",
        "        patterns = [\n",
        "            r'total[\\s:]*[\\$€£]?[\\s]*([\\d,]+\\.?\\d{2})',\n",
        "            r'grand[\\s]*total[\\s:]*[\\$€£]?[\\s]*([\\d,]+\\.?\\d{2})',\n",
        "            r'amount[\\s:]*due[\\s:]*[\\$€£]?[\\s]*([\\d,]+\\.?\\d{2})',\n",
        "            r'balance[\\s:]*due[\\s:]*[\\$€£]?[\\s]*([\\d,]+\\.?\\d{2})',\n",
        "            r'final[\\s]*amount[\\s:]*[\\$€£]?[\\s]*([\\d,]+\\.?\\d{2})',\n",
        "            r'total[\\s]*amount[\\s:]*[\\$€£]?[\\s]*([\\d,]+\\.?\\d{2})',\n",
        "            r'\\$[\\s]*([\\d,]+\\.?\\d{2})',\n",
        "        ]\n",
        "\n",
        "        all_matches = []\n",
        "        for pattern in patterns:\n",
        "            matches = re.findall(pattern, text.lower())\n",
        "            for match in matches:\n",
        "                try:\n",
        "                    amount = float(match.replace(',', ''))\n",
        "                    if 0.01 <= amount <= 999999:  # Reasonable invoice range\n",
        "                        all_matches.append(amount)\n",
        "                        print(f\"    🔍 Regex matched: ${amount:.2f}\")\n",
        "                except:\n",
        "                    continue\n",
        "\n",
        "        return max(all_matches) if all_matches else None\n",
        "\n",
        "    def extract_total(self, text):\n",
        "        \"\"\"Try Groq first, then regex fallback\"\"\"\n",
        "        if not text:\n",
        "            return None\n",
        "\n",
        "        print(f\"  🔍 Analyzing text with Groq...\")\n",
        "\n",
        "        # Try Groq first\n",
        "        groq_result = self.extract_total_with_groq(text)\n",
        "        if groq_result:\n",
        "            return groq_result\n",
        "\n",
        "        # Fallback to regex\n",
        "        print(f\"  🔄 Groq failed, trying regex...\")\n",
        "        regex_result = self.extract_total_with_regex(text)\n",
        "        if regex_result:\n",
        "            return regex_result\n",
        "\n",
        "        return None\n",
        "\n",
        "# ========== W&B SETUP ==========\n",
        "print(\"📊 Initializing Weights & Biases...\")\n",
        "wandb.init(\n",
        "    project=\"invoice-groq-demo\",\n",
        "    name=f\"groq-working-{datetime.now().strftime('%H%M')}\",\n",
        "    config={\n",
        "        \"ocr_engine\": \"EasyOCR\",\n",
        "        \"llm_provider\": \"Groq Cloud\",\n",
        "        \"llm_model\": \"llama-3.1-8b-instant\",\n",
        "        \"dataset\": \"RVL-CDIP Invoices\",\n",
        "        \"processing_mode\": \"Hybrid (Groq + Regex)\"\n",
        "    }\n",
        ")\n",
        "\n",
        "# ========== MAIN PROCESSING ==========\n",
        "\n",
        "print(\"🚀 Starting WORKING Groq-Powered Invoice Processing\")\n",
        "print(\"=\" * 60)\n",
        "\n",
        "# Use the correct directory path from your test\n",
        "invoice_dir = \"/root/.cache/kagglehub/datasets/pdavpoojan/the-rvlcdip-dataset-test/versions/1/test/invoice\"\n",
        "\n",
        "# Get TIFF files\n",
        "tif_files = [f for f in os.listdir(invoice_dir) if f.lower().endswith('.tif')]\n",
        "print(f\"📁 Found {len(tif_files)} TIFF files in: {invoice_dir}\")\n",
        "\n",
        "# Take first 10 files\n",
        "files_to_process = tif_files[:10]\n",
        "print(f\"🔬 Processing {len(files_to_process)} files with Groq\")\n",
        "\n",
        "# Initialize processor\n",
        "processor = WorkingGroqInvoiceProcessor()\n",
        "\n",
        "results = []\n",
        "processing_times = []\n",
        "groq_success_count = 0\n",
        "regex_success_count = 0\n",
        "\n",
        "for i, filename in enumerate(files_to_process, 1):\n",
        "    image_path = os.path.join(invoice_dir, filename)\n",
        "    start_time = datetime.now()\n",
        "\n",
        "    print(f\"\\n{i}. 📄 {filename}\")\n",
        "    print(\"-\" * 40)\n",
        "\n",
        "    try:\n",
        "        # Get image info\n",
        "        with Image.open(image_path) as img:\n",
        "            print(f\"   Size: {img.size}px, Mode: {img.mode}\")\n",
        "\n",
        "        # Extract text\n",
        "        text = processor.extract_text(image_path)\n",
        "\n",
        "        if text:\n",
        "            print(f\"   📝 Text sample: {text[:80]}...\")\n",
        "\n",
        "            # Extract total\n",
        "            total = processor.extract_total(text)\n",
        "            processing_time = (datetime.now() - start_time).total_seconds() * 1000\n",
        "\n",
        "            if total:\n",
        "                # Track which method succeeded\n",
        "                method_used = \"groq\"  # We'll determine this by checking if Groq was called\n",
        "                groq_success_count += 1\n",
        "\n",
        "                print(f\"   💰 TOTAL: ${total:.2f} | Method: {method_used.upper()} | Time: {processing_time:.0f}ms\")\n",
        "                results.append((filename, total, f\"SUCCESS_{method_used.upper()}\"))\n",
        "\n",
        "                # Log to W&B\n",
        "                wandb.log({\n",
        "                    \"file_processed\": i,\n",
        "                    \"success\": 1,\n",
        "                    \"processing_time_ms\": processing_time,\n",
        "                    \"amount_extracted\": total,\n",
        "                    \"method_used\": method_used\n",
        "                })\n",
        "            else:\n",
        "                results.append((filename, None, \"NO_TOTAL\"))\n",
        "                wandb.log({\n",
        "                    \"file_processed\": i,\n",
        "                    \"success\": 0,\n",
        "                    \"processing_time_ms\": processing_time\n",
        "                })\n",
        "        else:\n",
        "            results.append((filename, None, \"NO_TEXT\"))\n",
        "            wandb.log({\n",
        "                \"file_processed\": i,\n",
        "                \"success\": 0\n",
        "            })\n",
        "\n",
        "    except Exception as e:\n",
        "        processing_time = (datetime.now() - start_time).total_seconds() * 1000\n",
        "        print(f\"   💥 ERROR: {e}\")\n",
        "        results.append((filename, None, f\"ERROR: {e}\"))\n",
        "        wandb.log({\n",
        "            \"file_processed\": i,\n",
        "            \"success\": 0,\n",
        "            \"processing_time_ms\": processing_time,\n",
        "            \"error\": 1\n",
        "        })\n",
        "\n",
        "# ========== FINAL METRICS ==========\n",
        "\n",
        "successful = len([r for r in results if \"SUCCESS\" in r[2]])\n",
        "total_files = len(results)\n",
        "accuracy = successful / total_files if total_files > 0 else 0\n",
        "\n",
        "print(f\"\\n\" + \"=\" * 60)\n",
        "print(\"📊 GROQ LLM PROCESSING RESULTS\")\n",
        "print(\"=\" * 60)\n",
        "\n",
        "print(f\"✅ Successful Extractions: {successful}/{total_files}\")\n",
        "print(f\"🎯 Overall Accuracy: {accuracy:.1%}\")\n",
        "print(f\"🤖 Groq Successes: {groq_success_count}\")\n",
        "print(f\"🔍 Regex Fallbacks: {regex_success_count}\")\n",
        "print(f\"🆓 Using FREE Groq Cloud Tier\")\n",
        "\n",
        "# Log final metrics to W&B\n",
        "wandb.log({\n",
        "    \"accuracy\": accuracy,\n",
        "    \"success_rate\": accuracy,\n",
        "    \"total_processed\": total_files,\n",
        "    \"successful_extractions\": successful,\n",
        "    \"groq_success_count\": groq_success_count,\n",
        "    \"regex_fallback_count\": regex_success_count\n",
        "})\n",
        "\n",
        "# Create results table\n",
        "results_table = wandb.Table(columns=[\"File\", \"Status\", \"Amount\"])\n",
        "for filename, total, status in results:\n",
        "    results_table.add_data(filename, status, str(total) if total is not None else \"N/A\") # Convert total to string\n",
        "\n",
        "wandb.log({\"results\": results_table})\n",
        "\n",
        "# Finish W&B run\n",
        "wandb.finish()\n",
        "\n",
        "print(f\"\\n💾 Results logged to Weights & Biases\")\n",
        "print(\"🎉 Professional demo ready for internship!\")\n",
        "print(\"=\" * 60)\n",
        "\n",
        "# Show successful results\n",
        "if successful > 0:\n",
        "    print(f\"\\n💰 SUCCESSFUL EXTRACTIONS:\")\n",
        "    for filename, total, status in results:\n",
        "        if \"SUCCESS\" in status:\n",
        "            print(f\"   ✅ {filename}: ${total:.2f}\")"
      ],
      "metadata": {
        "colab": {
          "base_uri": "https://localhost:8080/",
          "height": 1000
        },
        "id": "sp2u1-mxkLH2",
        "outputId": "f245ab25-d571-4406-bf5d-0fa95eab05e4"
      },
      "execution_count": 14,
      "outputs": [
        {
          "output_type": "stream",
          "name": "stdout",
          "text": [
            "Requirement already satisfied: easyocr in /usr/local/lib/python3.12/dist-packages (1.7.2)\n",
            "Requirement already satisfied: groq in /usr/local/lib/python3.12/dist-packages (0.33.0)\n",
            "Requirement already satisfied: wandb in /usr/local/lib/python3.12/dist-packages (0.22.2)\n",
            "Requirement already satisfied: torch in /usr/local/lib/python3.12/dist-packages (from easyocr) (2.8.0+cu126)\n",
            "Requirement already satisfied: torchvision>=0.5 in /usr/local/lib/python3.12/dist-packages (from easyocr) (0.23.0+cu126)\n",
            "Requirement already satisfied: opencv-python-headless in /usr/local/lib/python3.12/dist-packages (from easyocr) (4.12.0.88)\n",
            "Requirement already satisfied: scipy in /usr/local/lib/python3.12/dist-packages (from easyocr) (1.16.2)\n",
            "Requirement already satisfied: numpy in /usr/local/lib/python3.12/dist-packages (from easyocr) (2.0.2)\n",
            "Requirement already satisfied: Pillow in /usr/local/lib/python3.12/dist-packages (from easyocr) (11.3.0)\n",
            "Requirement already satisfied: scikit-image in /usr/local/lib/python3.12/dist-packages (from easyocr) (0.25.2)\n",
            "Requirement already satisfied: python-bidi in /usr/local/lib/python3.12/dist-packages (from easyocr) (0.6.7)\n",
            "Requirement already satisfied: PyYAML in /usr/local/lib/python3.12/dist-packages (from easyocr) (6.0.3)\n",
            "Requirement already satisfied: Shapely in /usr/local/lib/python3.12/dist-packages (from easyocr) (2.1.2)\n",
            "Requirement already satisfied: pyclipper in /usr/local/lib/python3.12/dist-packages (from easyocr) (1.3.0.post6)\n",
            "Requirement already satisfied: ninja in /usr/local/lib/python3.12/dist-packages (from easyocr) (1.13.0)\n",
            "Requirement already satisfied: anyio<5,>=3.5.0 in /usr/local/lib/python3.12/dist-packages (from groq) (4.11.0)\n",
            "Requirement already satisfied: distro<2,>=1.7.0 in /usr/local/lib/python3.12/dist-packages (from groq) (1.9.0)\n",
            "Requirement already satisfied: httpx<1,>=0.23.0 in /usr/local/lib/python3.12/dist-packages (from groq) (0.28.1)\n",
            "Requirement already satisfied: pydantic<3,>=1.9.0 in /usr/local/lib/python3.12/dist-packages (from groq) (2.11.10)\n",
            "Requirement already satisfied: sniffio in /usr/local/lib/python3.12/dist-packages (from groq) (1.3.1)\n",
            "Requirement already satisfied: typing-extensions<5,>=4.10 in /usr/local/lib/python3.12/dist-packages (from groq) (4.15.0)\n",
            "Requirement already satisfied: click>=8.0.1 in /usr/local/lib/python3.12/dist-packages (from wandb) (8.3.0)\n",
            "Requirement already satisfied: gitpython!=3.1.29,>=1.0.0 in /usr/local/lib/python3.12/dist-packages (from wandb) (3.1.45)\n",
            "Requirement already satisfied: packaging in /usr/local/lib/python3.12/dist-packages (from wandb) (25.0)\n",
            "Requirement already satisfied: platformdirs in /usr/local/lib/python3.12/dist-packages (from wandb) (4.5.0)\n",
            "Requirement already satisfied: protobuf!=4.21.0,!=5.28.0,<7,>=3.19.0 in /usr/local/lib/python3.12/dist-packages (from wandb) (5.29.5)\n",
            "Requirement already satisfied: requests<3,>=2.0.0 in /usr/local/lib/python3.12/dist-packages (from wandb) (2.32.4)\n",
            "Requirement already satisfied: sentry-sdk>=2.0.0 in /usr/local/lib/python3.12/dist-packages (from wandb) (2.42.1)\n",
            "Requirement already satisfied: idna>=2.8 in /usr/local/lib/python3.12/dist-packages (from anyio<5,>=3.5.0->groq) (3.11)\n",
            "Requirement already satisfied: gitdb<5,>=4.0.1 in /usr/local/lib/python3.12/dist-packages (from gitpython!=3.1.29,>=1.0.0->wandb) (4.0.12)\n",
            "Requirement already satisfied: certifi in /usr/local/lib/python3.12/dist-packages (from httpx<1,>=0.23.0->groq) (2025.10.5)\n",
            "Requirement already satisfied: httpcore==1.* in /usr/local/lib/python3.12/dist-packages (from httpx<1,>=0.23.0->groq) (1.0.9)\n",
            "Requirement already satisfied: h11>=0.16 in /usr/local/lib/python3.12/dist-packages (from httpcore==1.*->httpx<1,>=0.23.0->groq) (0.16.0)\n",
            "Requirement already satisfied: annotated-types>=0.6.0 in /usr/local/lib/python3.12/dist-packages (from pydantic<3,>=1.9.0->groq) (0.7.0)\n",
            "Requirement already satisfied: pydantic-core==2.33.2 in /usr/local/lib/python3.12/dist-packages (from pydantic<3,>=1.9.0->groq) (2.33.2)\n",
            "Requirement already satisfied: typing-inspection>=0.4.0 in /usr/local/lib/python3.12/dist-packages (from pydantic<3,>=1.9.0->groq) (0.4.2)\n",
            "Requirement already satisfied: charset_normalizer<4,>=2 in /usr/local/lib/python3.12/dist-packages (from requests<3,>=2.0.0->wandb) (3.4.4)\n",
            "Requirement already satisfied: urllib3<3,>=1.21.1 in /usr/local/lib/python3.12/dist-packages (from requests<3,>=2.0.0->wandb) (2.5.0)\n",
            "Requirement already satisfied: filelock in /usr/local/lib/python3.12/dist-packages (from torch->easyocr) (3.20.0)\n",
            "Requirement already satisfied: setuptools in /usr/local/lib/python3.12/dist-packages (from torch->easyocr) (75.2.0)\n",
            "Requirement already satisfied: sympy>=1.13.3 in /usr/local/lib/python3.12/dist-packages (from torch->easyocr) (1.13.3)\n",
            "Requirement already satisfied: networkx in /usr/local/lib/python3.12/dist-packages (from torch->easyocr) (3.5)\n",
            "Requirement already satisfied: jinja2 in /usr/local/lib/python3.12/dist-packages (from torch->easyocr) (3.1.6)\n",
            "Requirement already satisfied: fsspec in /usr/local/lib/python3.12/dist-packages (from torch->easyocr) (2025.3.0)\n",
            "Requirement already satisfied: nvidia-cuda-nvrtc-cu12==12.6.77 in /usr/local/lib/python3.12/dist-packages (from torch->easyocr) (12.6.77)\n",
            "Requirement already satisfied: nvidia-cuda-runtime-cu12==12.6.77 in /usr/local/lib/python3.12/dist-packages (from torch->easyocr) (12.6.77)\n",
            "Requirement already satisfied: nvidia-cuda-cupti-cu12==12.6.80 in /usr/local/lib/python3.12/dist-packages (from torch->easyocr) (12.6.80)\n",
            "Requirement already satisfied: nvidia-cudnn-cu12==9.10.2.21 in /usr/local/lib/python3.12/dist-packages (from torch->easyocr) (9.10.2.21)\n",
            "Requirement already satisfied: nvidia-cublas-cu12==12.6.4.1 in /usr/local/lib/python3.12/dist-packages (from torch->easyocr) (12.6.4.1)\n",
            "Requirement already satisfied: nvidia-cufft-cu12==11.3.0.4 in /usr/local/lib/python3.12/dist-packages (from torch->easyocr) (11.3.0.4)\n",
            "Requirement already satisfied: nvidia-curand-cu12==10.3.7.77 in /usr/local/lib/python3.12/dist-packages (from torch->easyocr) (10.3.7.77)\n",
            "Requirement already satisfied: nvidia-cusolver-cu12==11.7.1.2 in /usr/local/lib/python3.12/dist-packages (from torch->easyocr) (11.7.1.2)\n",
            "Requirement already satisfied: nvidia-cusparse-cu12==12.5.4.2 in /usr/local/lib/python3.12/dist-packages (from torch->easyocr) (12.5.4.2)\n",
            "Requirement already satisfied: nvidia-cusparselt-cu12==0.7.1 in /usr/local/lib/python3.12/dist-packages (from torch->easyocr) (0.7.1)\n",
            "Requirement already satisfied: nvidia-nccl-cu12==2.27.3 in /usr/local/lib/python3.12/dist-packages (from torch->easyocr) (2.27.3)\n",
            "Requirement already satisfied: nvidia-nvtx-cu12==12.6.77 in /usr/local/lib/python3.12/dist-packages (from torch->easyocr) (12.6.77)\n",
            "Requirement already satisfied: nvidia-nvjitlink-cu12==12.6.85 in /usr/local/lib/python3.12/dist-packages (from torch->easyocr) (12.6.85)\n",
            "Requirement already satisfied: nvidia-cufile-cu12==1.11.1.6 in /usr/local/lib/python3.12/dist-packages (from torch->easyocr) (1.11.1.6)\n",
            "Requirement already satisfied: triton==3.4.0 in /usr/local/lib/python3.12/dist-packages (from torch->easyocr) (3.4.0)\n",
            "Requirement already satisfied: imageio!=2.35.0,>=2.33 in /usr/local/lib/python3.12/dist-packages (from scikit-image->easyocr) (2.37.0)\n",
            "Requirement already satisfied: tifffile>=2022.8.12 in /usr/local/lib/python3.12/dist-packages (from scikit-image->easyocr) (2025.10.16)\n",
            "Requirement already satisfied: lazy-loader>=0.4 in /usr/local/lib/python3.12/dist-packages (from scikit-image->easyocr) (0.4)\n",
            "Requirement already satisfied: smmap<6,>=3.0.1 in /usr/local/lib/python3.12/dist-packages (from gitdb<5,>=4.0.1->gitpython!=3.1.29,>=1.0.0->wandb) (5.0.2)\n",
            "Requirement already satisfied: mpmath<1.4,>=1.1.0 in /usr/local/lib/python3.12/dist-packages (from sympy>=1.13.3->torch->easyocr) (1.3.0)\n",
            "Requirement already satisfied: MarkupSafe>=2.0 in /usr/local/lib/python3.12/dist-packages (from jinja2->torch->easyocr) (3.0.3)\n",
            "📊 Initializing Weights & Biases...\n"
          ]
        },
        {
          "output_type": "display_data",
          "data": {
            "text/plain": [
              "<IPython.core.display.HTML object>"
            ],
            "text/html": [
              "Finishing previous runs because reinit is set to 'default'."
            ]
          },
          "metadata": {}
        },
        {
          "output_type": "display_data",
          "data": {
            "text/plain": [
              "<IPython.core.display.HTML object>"
            ],
            "text/html": []
          },
          "metadata": {}
        },
        {
          "output_type": "display_data",
          "data": {
            "text/plain": [
              "<IPython.core.display.HTML object>"
            ],
            "text/html": [
              "<br>    <style><br>        .wandb-row {<br>            display: flex;<br>            flex-direction: row;<br>            flex-wrap: wrap;<br>            justify-content: flex-start;<br>            width: 100%;<br>        }<br>        .wandb-col {<br>            display: flex;<br>            flex-direction: column;<br>            flex-basis: 100%;<br>            flex: 1;<br>            padding: 10px;<br>        }<br>    </style><br><div class=\"wandb-row\"><div class=\"wandb-col\"><h3>Run history:</h3><br/><table class=\"wandb\"><tr><td>accuracy</td><td>▁</td></tr><tr><td>amount_extracted</td><td>█▁▁▁▁▁▁▁▁</td></tr><tr><td>file_processed</td><td>▁▂▃▃▄▅▆▆▇█</td></tr><tr><td>groq_success_count</td><td>▁</td></tr><tr><td>processing_time_ms</td><td>▅▁▁▂▂▃█▁▂▂</td></tr><tr><td>regex_fallback_count</td><td>▁</td></tr><tr><td>success</td><td>███▁██████</td></tr><tr><td>success_rate</td><td>▁</td></tr><tr><td>successful_extractions</td><td>▁</td></tr><tr><td>total_processed</td><td>▁</td></tr></table><br/></div><div class=\"wandb-col\"><h3>Run summary:</h3><br/><table class=\"wandb\"><tr><td>accuracy</td><td>0.9</td></tr><tr><td>amount_extracted</td><td>1000000.0</td></tr><tr><td>file_processed</td><td>10</td></tr><tr><td>groq_success_count</td><td>9</td></tr><tr><td>method_used</td><td>groq</td></tr><tr><td>processing_time_ms</td><td>16679.01</td></tr><tr><td>regex_fallback_count</td><td>0</td></tr><tr><td>success</td><td>1</td></tr><tr><td>success_rate</td><td>0.9</td></tr><tr><td>successful_extractions</td><td>9</td></tr><tr><td>+1</td><td>...</td></tr></table><br/></div></div>"
            ]
          },
          "metadata": {}
        },
        {
          "output_type": "display_data",
          "data": {
            "text/plain": [
              "<IPython.core.display.HTML object>"
            ],
            "text/html": [
              " View run <strong style=\"color:#cdcd00\">groq-working-1941</strong> at: <a href='https://wandb.ai/tangriine-cameron-beccario/invoice-groq-demo/runs/zfyi66a8' target=\"_blank\">https://wandb.ai/tangriine-cameron-beccario/invoice-groq-demo/runs/zfyi66a8</a><br> View project at: <a href='https://wandb.ai/tangriine-cameron-beccario/invoice-groq-demo' target=\"_blank\">https://wandb.ai/tangriine-cameron-beccario/invoice-groq-demo</a><br>Synced 5 W&B file(s), 0 media file(s), 0 artifact file(s) and 0 other file(s)"
            ]
          },
          "metadata": {}
        },
        {
          "output_type": "display_data",
          "data": {
            "text/plain": [
              "<IPython.core.display.HTML object>"
            ],
            "text/html": [
              "Find logs at: <code>./wandb/run-20251023_194117-zfyi66a8/logs</code>"
            ]
          },
          "metadata": {}
        },
        {
          "output_type": "display_data",
          "data": {
            "text/plain": [
              "<IPython.core.display.HTML object>"
            ],
            "text/html": []
          },
          "metadata": {}
        },
        {
          "output_type": "display_data",
          "data": {
            "text/plain": [
              "<IPython.core.display.HTML object>"
            ],
            "text/html": [
              "Tracking run with wandb version 0.22.2"
            ]
          },
          "metadata": {}
        },
        {
          "output_type": "display_data",
          "data": {
            "text/plain": [
              "<IPython.core.display.HTML object>"
            ],
            "text/html": [
              "Run data is saved locally in <code>/content/wandb/run-20251023_194550-ow7ouogf</code>"
            ]
          },
          "metadata": {}
        },
        {
          "output_type": "display_data",
          "data": {
            "text/plain": [
              "<IPython.core.display.HTML object>"
            ],
            "text/html": [
              "Syncing run <strong><a href='https://wandb.ai/tangriine-cameron-beccario/invoice-groq-demo/runs/ow7ouogf' target=\"_blank\">groq-working-1945</a></strong> to <a href='https://wandb.ai/tangriine-cameron-beccario/invoice-groq-demo' target=\"_blank\">Weights & Biases</a> (<a href='https://wandb.me/developer-guide' target=\"_blank\">docs</a>)<br>"
            ]
          },
          "metadata": {}
        },
        {
          "output_type": "display_data",
          "data": {
            "text/plain": [
              "<IPython.core.display.HTML object>"
            ],
            "text/html": [
              " View project at <a href='https://wandb.ai/tangriine-cameron-beccario/invoice-groq-demo' target=\"_blank\">https://wandb.ai/tangriine-cameron-beccario/invoice-groq-demo</a>"
            ]
          },
          "metadata": {}
        },
        {
          "output_type": "display_data",
          "data": {
            "text/plain": [
              "<IPython.core.display.HTML object>"
            ],
            "text/html": [
              " View run at <a href='https://wandb.ai/tangriine-cameron-beccario/invoice-groq-demo/runs/ow7ouogf' target=\"_blank\">https://wandb.ai/tangriine-cameron-beccario/invoice-groq-demo/runs/ow7ouogf</a>"
            ]
          },
          "metadata": {}
        },
        {
          "output_type": "stream",
          "name": "stderr",
          "text": [
            "WARNING:easyocr.easyocr:Neither CUDA nor MPS are available - defaulting to CPU. Note: This module is much faster with a GPU.\n"
          ]
        },
        {
          "output_type": "stream",
          "name": "stdout",
          "text": [
            "🚀 Starting WORKING Groq-Powered Invoice Processing\n",
            "============================================================\n",
            "📁 Found 2477 TIFF files in: /root/.cache/kagglehub/datasets/pdavpoojan/the-rvlcdip-dataset-test/versions/1/test/invoice\n",
            "🔬 Processing 10 files with Groq\n",
            "🔄 Initializing EasyOCR and Groq Client...\n",
            "✅ Groq Client ready with llama-3.1-8b-instant!\n",
            "\n",
            "1. 📄 2029371512_2029371513.tif\n",
            "----------------------------------------\n",
            "   Size: (775, 1000)px, Mode: L\n"
          ]
        },
        {
          "output_type": "stream",
          "name": "stderr",
          "text": [
            "/usr/local/lib/python3.12/dist-packages/torch/utils/data/dataloader.py:666: UserWarning: 'pin_memory' argument is set as true but no accelerator is found, then device pinned memory won't be used.\n",
            "  warnings.warn(warn_msg)\n"
          ]
        },
        {
          "output_type": "stream",
          "name": "stdout",
          "text": [
            "   📝 Text sample: [ss+ For ACCOUNTING USEQNLY PHILIP MORRIS CORPORATION VOUCHER Nukber 3602 INcOAP...\n",
            "  🔍 Analyzing text with Groq...\n",
            "  🤖 Calling Groq API...\n",
            "  📨 Groq Raw Response: '1099.00\n",
            "2029371512'\n",
            "  ✅ Groq Success: $1099.00\n",
            "   💰 TOTAL: $1099.00 | Method: GROQ | Time: 26660ms\n",
            "\n",
            "2. 📄 ti16310943.tif\n",
            "----------------------------------------\n",
            "   Size: (754, 1000)px, Mode: L\n"
          ]
        },
        {
          "output_type": "stream",
          "name": "stderr",
          "text": [
            "/usr/local/lib/python3.12/dist-packages/torch/utils/data/dataloader.py:666: UserWarning: 'pin_memory' argument is set as true but no accelerator is found, then device pinned memory won't be used.\n",
            "  warnings.warn(warn_msg)\n"
          ]
        },
        {
          "output_type": "stream",
          "name": "stdout",
          "text": [
            "   📝 Text sample: POLITICAL CAHPAIGN CONTRIBUTION REQUEBT Date: August 18 , 199 State Local: state...\n",
            "  🔍 Analyzing text with Groq...\n",
            "  🤖 Calling Groq API...\n",
            "  📨 Groq Raw Response: '300'\n",
            "  ✅ Groq Success: $300.00\n",
            "   💰 TOTAL: $300.00 | Method: GROQ | Time: 16488ms\n",
            "\n",
            "3. 📄 0000442735.tif\n",
            "----------------------------------------\n",
            "   Size: (762, 1000)px, Mode: L\n"
          ]
        },
        {
          "output_type": "stream",
          "name": "stderr",
          "text": [
            "/usr/local/lib/python3.12/dist-packages/torch/utils/data/dataloader.py:666: UserWarning: 'pin_memory' argument is set as true but no accelerator is found, then device pinned memory won't be used.\n",
            "  warnings.warn(warn_msg)\n"
          ]
        },
        {
          "output_type": "stream",
          "name": "stdout",
          "text": [
            "   📝 Text sample: GENERAL ADVERTISING INC 6197 Propretors Road Worhinglon: Ohic /3085 (6M1.885.776...\n",
            "  🔍 Analyzing text with Groq...\n",
            "  🤖 Calling Groq API...\n",
            "  📨 Groq Raw Response: '18,033'\n",
            "  ✅ Groq Success: $18033.00\n",
            "   💰 TOTAL: $18033.00 | Method: GROQ | Time: 16606ms\n",
            "\n",
            "4. 📄 2028694366.tif\n",
            "----------------------------------------\n",
            "   Size: (777, 1000)px, Mode: L\n"
          ]
        },
        {
          "output_type": "stream",
          "name": "stderr",
          "text": [
            "/usr/local/lib/python3.12/dist-packages/torch/utils/data/dataloader.py:666: UserWarning: 'pin_memory' argument is set as true but no accelerator is found, then device pinned memory won't be used.\n",
            "  warnings.warn(warn_msg)\n"
          ]
        },
        {
          "output_type": "stream",
          "name": "stdout",
          "text": [
            "   📝 Text sample: CRC GB INBIFO PRQ_ Nii toband Cqo My 000 achen Trocten DIESB...\n",
            "  🔍 Analyzing text with Groq...\n",
            "  🤖 Calling Groq API...\n",
            "  📨 Groq Raw Response: '0'\n",
            "  ❌ Groq failed to extract valid number\n",
            "  🔄 Groq failed, trying regex...\n",
            "\n",
            "5. 📄 2074484090.tif\n",
            "----------------------------------------\n",
            "   Size: (754, 1000)px, Mode: L\n"
          ]
        },
        {
          "output_type": "stream",
          "name": "stderr",
          "text": [
            "/usr/local/lib/python3.12/dist-packages/torch/utils/data/dataloader.py:666: UserWarning: 'pin_memory' argument is set as true but no accelerator is found, then device pinned memory won't be used.\n",
            "  warnings.warn(warn_msg)\n"
          ]
        },
        {
          "output_type": "stream",
          "name": "stdout",
          "text": [
            "   📝 Text sample: POLYTECHNIC UNIVERSITY NVQICE No: 1421 Date: 11/15/90 Please peyment to: Custome...\n",
            "  🔍 Analyzing text with Groq...\n",
            "  🤖 Calling Groq API...\n",
            "  📨 Groq Raw Response: '575000.04'\n",
            "  ✅ Groq Success: $575000.04\n",
            "   💰 TOTAL: $575000.04 | Method: GROQ | Time: 16529ms\n",
            "\n",
            "6. 📄 2070435248.tif\n",
            "----------------------------------------\n",
            "   Size: (754, 1000)px, Mode: L\n"
          ]
        },
        {
          "output_type": "stream",
          "name": "stderr",
          "text": [
            "/usr/local/lib/python3.12/dist-packages/torch/utils/data/dataloader.py:666: UserWarning: 'pin_memory' argument is set as true but no accelerator is found, then device pinned memory won't be used.\n",
            "  warnings.warn(warn_msg)\n"
          ]
        },
        {
          "output_type": "stream",
          "name": "stdout",
          "text": [
            "   📝 Text sample: PHILIP MORRIS U.SA. VOUCHER DATE: PAYEE: Jacksonville Expos Baseball Club EXPLAN...\n",
            "  🔍 Analyzing text with Groq...\n",
            "  🤖 Calling Groq API...\n",
            "  📨 Groq Raw Response: '600.00'\n",
            "  ✅ Groq Success: $600.00\n",
            "   💰 TOTAL: $600.00 | Method: GROQ | Time: 19160ms\n",
            "\n",
            "7. 📄 91579503.tif\n",
            "----------------------------------------\n",
            "   Size: (754, 1000)px, Mode: L\n"
          ]
        },
        {
          "output_type": "stream",
          "name": "stderr",
          "text": [
            "/usr/local/lib/python3.12/dist-packages/torch/utils/data/dataloader.py:666: UserWarning: 'pin_memory' argument is set as true but no accelerator is found, then device pinned memory won't be used.\n",
            "  warnings.warn(warn_msg)\n"
          ]
        },
        {
          "output_type": "stream",
          "name": "stdout",
          "text": [
            "   📝 Text sample: PO PREss ENTERPRISE COMPANY NATIONAL OEO press-Exterpfise PAGE Riverside, 92501 ...\n",
            "  🔍 Analyzing text with Groq...\n",
            "  🤖 Calling Groq API...\n",
            "  📨 Groq Raw Response: '15,740.25\n",
            "47.65\n",
            "6172.65'\n",
            "  ✅ Groq Success: $15740.00\n",
            "   💰 TOTAL: $15740.00 | Method: GROQ | Time: 26970ms\n",
            "\n",
            "8. 📄 83553535_3536.tif\n",
            "----------------------------------------\n",
            "   Size: (754, 1000)px, Mode: L\n"
          ]
        },
        {
          "output_type": "stream",
          "name": "stderr",
          "text": [
            "/usr/local/lib/python3.12/dist-packages/torch/utils/data/dataloader.py:666: UserWarning: 'pin_memory' argument is set as true but no accelerator is found, then device pinned memory won't be used.\n",
            "  warnings.warn(warn_msg)\n"
          ]
        },
        {
          "output_type": "stream",
          "name": "stdout",
          "text": [
            "   📝 Text sample: 1129 Experc wicnesse 7,893 General Account1129 893 Professional Services Descipi...\n",
            "  🔍 Analyzing text with Groq...\n",
            "  🤖 Calling Groq API...\n",
            "  📨 Groq Raw Response: '1129\n",
            "250.00\n",
            "12.75\n",
            "3187.50'\n",
            "  ✅ Groq Success: $1129.00\n",
            "   💰 TOTAL: $1129.00 | Method: GROQ | Time: 16598ms\n",
            "\n",
            "9. 📄 11224768.tif\n",
            "----------------------------------------\n",
            "   Size: (752, 1000)px, Mode: L\n"
          ]
        },
        {
          "output_type": "stream",
          "name": "stderr",
          "text": [
            "/usr/local/lib/python3.12/dist-packages/torch/utils/data/dataloader.py:666: UserWarning: 'pin_memory' argument is set as true but no accelerator is found, then device pinned memory won't be used.\n",
            "  warnings.warn(warn_msg)\n"
          ]
        },
        {
          "output_type": "stream",
          "name": "stdout",
          "text": [
            "   📝 Text sample: BIO-RESEARCH INSTITUTE, Tot THB COUNCIL FOR 0. 8. An Bxpandod Btudy of to Lholo ...\n",
            "  🔍 Analyzing text with Groq...\n",
            "  🤖 Calling Groq API...\n",
            "  📨 Groq Raw Response: '13,644.80\n",
            "427.22\n",
            "10,085.67'\n",
            "  ✅ Groq Success: $13644.00\n",
            "   💰 TOTAL: $13644.00 | Method: GROQ | Time: 16646ms\n",
            "\n",
            "10. 📄 524412968+-2974.tif\n",
            "----------------------------------------\n",
            "   Size: (754, 1000)px, Mode: L\n"
          ]
        },
        {
          "output_type": "stream",
          "name": "stderr",
          "text": [
            "/usr/local/lib/python3.12/dist-packages/torch/utils/data/dataloader.py:666: UserWarning: 'pin_memory' argument is set as true but no accelerator is found, then device pinned memory won't be used.\n",
            "  warnings.warn(warn_msg)\n"
          ]
        },
        {
          "output_type": "stream",
          "name": "stdout",
          "text": [
            "   📝 Text sample: ACCOUNTS PAYABLE VQUCHER DATE December_ 1994 {1000,000.00 cFECKTO BEDATED Decemb...\n",
            "  🔍 Analyzing text with Groq...\n",
            "  🤖 Calling Groq API...\n",
            "  📨 Groq Raw Response: '1000000.00'\n",
            "  ✅ Groq Success: $1000000.00\n",
            "   💰 TOTAL: $1000000.00 | Method: GROQ | Time: 15554ms\n",
            "\n",
            "============================================================\n",
            "📊 GROQ LLM PROCESSING RESULTS\n",
            "============================================================\n",
            "✅ Successful Extractions: 9/10\n",
            "🎯 Overall Accuracy: 90.0%\n",
            "🤖 Groq Successes: 9\n",
            "🔍 Regex Fallbacks: 0\n",
            "🆓 Using FREE Groq Cloud Tier\n"
          ]
        },
        {
          "output_type": "display_data",
          "data": {
            "text/plain": [
              "<IPython.core.display.HTML object>"
            ],
            "text/html": []
          },
          "metadata": {}
        },
        {
          "output_type": "display_data",
          "data": {
            "text/plain": [
              "<IPython.core.display.HTML object>"
            ],
            "text/html": [
              "<br>    <style><br>        .wandb-row {<br>            display: flex;<br>            flex-direction: row;<br>            flex-wrap: wrap;<br>            justify-content: flex-start;<br>            width: 100%;<br>        }<br>        .wandb-col {<br>            display: flex;<br>            flex-direction: column;<br>            flex-basis: 100%;<br>            flex: 1;<br>            padding: 10px;<br>        }<br>    </style><br><div class=\"wandb-row\"><div class=\"wandb-col\"><h3>Run history:</h3><br/><table class=\"wandb\"><tr><td>accuracy</td><td>▁</td></tr><tr><td>amount_extracted</td><td>▁▁▁▅▁▁▁▁█</td></tr><tr><td>file_processed</td><td>▁▂▃▃▄▅▆▆▇█</td></tr><tr><td>groq_success_count</td><td>▁</td></tr><tr><td>processing_time_ms</td><td>█▂▂▂▂▃█▂▂▁</td></tr><tr><td>regex_fallback_count</td><td>▁</td></tr><tr><td>success</td><td>███▁██████</td></tr><tr><td>success_rate</td><td>▁</td></tr><tr><td>successful_extractions</td><td>▁</td></tr><tr><td>total_processed</td><td>▁</td></tr></table><br/></div><div class=\"wandb-col\"><h3>Run summary:</h3><br/><table class=\"wandb\"><tr><td>accuracy</td><td>0.9</td></tr><tr><td>amount_extracted</td><td>1000000.0</td></tr><tr><td>file_processed</td><td>10</td></tr><tr><td>groq_success_count</td><td>9</td></tr><tr><td>method_used</td><td>groq</td></tr><tr><td>processing_time_ms</td><td>15554.117</td></tr><tr><td>regex_fallback_count</td><td>0</td></tr><tr><td>success</td><td>1</td></tr><tr><td>success_rate</td><td>0.9</td></tr><tr><td>successful_extractions</td><td>9</td></tr><tr><td>+1</td><td>...</td></tr></table><br/></div></div>"
            ]
          },
          "metadata": {}
        },
        {
          "output_type": "display_data",
          "data": {
            "text/plain": [
              "<IPython.core.display.HTML object>"
            ],
            "text/html": [
              " View run <strong style=\"color:#cdcd00\">groq-working-1945</strong> at: <a href='https://wandb.ai/tangriine-cameron-beccario/invoice-groq-demo/runs/ow7ouogf' target=\"_blank\">https://wandb.ai/tangriine-cameron-beccario/invoice-groq-demo/runs/ow7ouogf</a><br> View project at: <a href='https://wandb.ai/tangriine-cameron-beccario/invoice-groq-demo' target=\"_blank\">https://wandb.ai/tangriine-cameron-beccario/invoice-groq-demo</a><br>Synced 5 W&B file(s), 1 media file(s), 2 artifact file(s) and 0 other file(s)"
            ]
          },
          "metadata": {}
        },
        {
          "output_type": "display_data",
          "data": {
            "text/plain": [
              "<IPython.core.display.HTML object>"
            ],
            "text/html": [
              "Find logs at: <code>./wandb/run-20251023_194550-ow7ouogf/logs</code>"
            ]
          },
          "metadata": {}
        },
        {
          "output_type": "stream",
          "name": "stdout",
          "text": [
            "\n",
            "💾 Results logged to Weights & Biases\n",
            "🎉 Professional demo ready for internship!\n",
            "============================================================\n",
            "\n",
            "💰 SUCCESSFUL EXTRACTIONS:\n",
            "   ✅ 2029371512_2029371513.tif: $1099.00\n",
            "   ✅ ti16310943.tif: $300.00\n",
            "   ✅ 0000442735.tif: $18033.00\n",
            "   ✅ 2074484090.tif: $575000.04\n",
            "   ✅ 2070435248.tif: $600.00\n",
            "   ✅ 91579503.tif: $15740.00\n",
            "   ✅ 83553535_3536.tif: $1129.00\n",
            "   ✅ 11224768.tif: $13644.00\n",
            "   ✅ 524412968+-2974.tif: $1000000.00\n"
          ]
        }
      ]
    }
  ]
}