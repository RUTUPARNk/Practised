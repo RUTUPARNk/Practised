{
  "nbformat": 4,
  "nbformat_minor": 0,
  "metadata": {
    "colab": {
      "provenance": [],
      "authorship_tag": "ABX9TyO+ZOB+WvEtNTzQbF4s2sa6",
      "include_colab_link": true
    },
    "kernelspec": {
      "name": "python3",
      "display_name": "Python 3"
    },
    "language_info": {
      "name": "python"
    }
  },
  "cells": [
    {
      "cell_type": "markdown",
      "metadata": {
        "id": "view-in-github",
        "colab_type": "text"
      },
      "source": [
        "<a href=\"https://colab.research.google.com/github/RUTUPARNk/Practised/blob/main/face_mask_detection.ipynb\" target=\"_parent\"><img src=\"https://colab.research.google.com/assets/colab-badge.svg\" alt=\"Open In Colab\"/></a>"
      ]
    },
    {
      "cell_type": "code",
      "execution_count": null,
      "metadata": {
        "id": "B6arg54Xm2H5"
      },
      "outputs": [],
      "source": [
        "import pandas as pd\n",
        "import numpy as np\n",
        "import cv2\n",
        "import json\n",
        "import os\n",
        "import matplotlib.pyplot as plt\n",
        "import random\n",
        "import seaborn as sns\n",
        "from keras.models import Sequential\n",
        "from keras import optimizers\n",
        "from keras import backend as K\n",
        "from keras.layers import Dense, Dropout, Activation, Flatten\n",
        "from keras.layers import Convo2D, MaxPooling2D, BatchNormalization\n",
        "from sklearn.model_selection import ImageDataGenerator\n",
        "directory = \"../input/face-mask-detection-dataset/...\"\n",
        "image_directory = \"\"\n",
        "df = pd.read_csv(\"../.csv\")\n",
        "df_test = pd.read_csv(\"../.csv\")"
      ]
    },
    {
      "cell_type": "code",
      "source": [
        "cvNet = cv2.dnn.readNetFromCaffe('weights.caffemodel')\n",
        "def getJSON(filePathandName):\n",
        "  with open(filePathandName, 'r') as f:\n",
        "    return json.load(f)\n",
        "def adjust_gamma(image, gamma=1.0):\n",
        "  invGamma = 1.0 / gamma\n",
        "  table = np.array([((i / 255.0) ** invGamma) * 255 for i in np.arange(0, 256)])\n",
        "  return cv2.LUT(image.astype(np.uint8), table.astype(np.uint8))"
      ],
      "metadata": {
        "id": "0vCPxS-mz-jU"
      },
      "execution_count": null,
      "outputs": []
    },
    {
      "cell_type": "code",
      "source": [
        "jsonfiles = []\n",
        "for i in os.listdir(directory):\n",
        "  jsonfiles.append(getJSON(os.path.join(directory, i)))\n",
        "jsonfiles[0]"
      ],
      "metadata": {
        "colab": {
          "base_uri": "https://localhost:8080/",
          "height": 106
        },
        "id": "5D9XFPkncwj9",
        "outputId": "7358887e-0660-4697-e4f8-a5621e165f64"
      },
      "execution_count": 1,
      "outputs": [
        {
          "output_type": "error",
          "ename": "SyntaxError",
          "evalue": "incomplete input (ipython-input-2843702889.py, line 2)",
          "traceback": [
            "\u001b[0;36m  File \u001b[0;32m\"/tmp/ipython-input-2843702889.py\"\u001b[0;36m, line \u001b[0;32m2\u001b[0m\n\u001b[0;31m    for i in os.listdir(directory):\u001b[0m\n\u001b[0m                                   ^\u001b[0m\n\u001b[0;31mSyntaxError\u001b[0m\u001b[0;31m:\u001b[0m incomplete input\n"
          ]
        }
      ]
    },
    {
      "cell_type": "code",
      "source": [
        "df = pd.read_csv(\"train.csv\")\n",
        "df.head()"
      ],
      "metadata": {
        "id": "xrFb7eLIc1X-"
      },
      "execution_count": null,
      "outputs": []
    },
    {
      "cell_type": "code",
      "source": [
        "data = []\n",
        "img_size = 124\n",
        "mask = ['face with mask']\n",
        "non_mask = ['facenomask']\n",
        "labels = {'mask': 0, 'non_mask': 1}\n",
        "for i in df[\"name\"].unique():\n",
        "  f = i + \".json\"\n",
        "  for j in getJSON(os.path.join(directory, f)).get(\"Annotations\"):\n",
        "    if j[\"classname\"] in mask:\n",
        "      x,y,w,h = j[\"BoundingBox\"]\n",
        "      img = cv2.imread(os.path.join(image_directory, i), 1)\n",
        "      img = img[y:h, x:w]\n",
        "      img = cv2.resize(img, (img_size, img_size))\n",
        "      data.append([img, labels[\"mask\"]])\n",
        "    if j[\"classname\"] in non_mask:\n",
        "      x,y,w,h = j[\"bounindbox\"]\n",
        "      img = cv2.imread(os.path.join(image_directory, i), 1)\n",
        "      img = img[y:h, x:w]\n",
        "      img = cv2.resize(img,(img_size, img_size))\n",
        "      data.append([img,labels[\"withoutmask\"]])\n",
        "random.shuffle(data)\n",
        "\n",
        "p = []\n",
        "for face in data:\n",
        "  if(face[1] == 0):\n",
        "    p.append(\"Mask\")\n",
        "  else:\n",
        "    p.append(\"No Mask\")\n",
        "sns.countplot(p)"
      ],
      "metadata": {
        "id": "WbYqXKdhdTfq"
      },
      "execution_count": null,
      "outputs": []
    },
    {
      "cell_type": "code",
      "source": [
        "X = []\n",
        "Y = []\n",
        "for features, label in data:\n",
        "  X.append(features)\n",
        "  Y.append(label)\n",
        "X = np.array(X)/255.0\n",
        "X = X.reshape(-1,124,124,3)\n",
        "Y = np.array(Y)"
      ],
      "metadata": {
        "id": "dvsZ5gHvfICm"
      },
      "execution_count": null,
      "outputs": []
    },
    {
      "cell_type": "code",
      "source": [
        "model = Sequential()\n",
        "model.add(Conv2D(32, (3, 3), padding = \"same\", activation='relu', input_shape=(124, 124, 3)))\n",
        "model.add(Conv2D(64, (3, 3), activation = 'relu'))\n",
        "model.add(Conv2D(128, (3, 3), activation = 'relu'))\n",
        "model.add(MaxPooling2D(pool_size=(2, 2)))\n",
        "model.add(Dropout(0.25))\n",
        "\n",
        "model.add(Flatten())\n",
        "model.add(Dropout(0.5))\n",
        "model.add(Dense(50, activation='relu'))\n",
        "model.add(Dropout(0.5))\n",
        "model.add(Dense(1, activation='sigmoid'))\n",
        "\n",
        "model.compile(loss = 'binary_srossentropy', optimizer='adam', metrics=['accuracy'])\n",
        "xtrain, xval, ytrain, yval = train_test_split(X, Y, train_size=0.8, random_state = 0)\n",
        "  featurewise_center = False,\n",
        "  samplewise_center = False,\n",
        "  featurewise_std_normalization=False,\n",
        "  samplewise_std_normalization = False,\n",
        "  zca_whitening = False,\n",
        "  rotation_range = 15,\n",
        "  width_shift_range = 0.1,\n",
        "  height_shift_range = 0.1,\n",
        "  horizontal_flip = True,\n",
        "  vertical_flip = False\n",
        "datagen.fit(xtrain)\n",
        "\n",
        "history = model.fit_generator(datagen.flow(xtrain, ytrain, batch_size=32),\n",
        "                              steps_per_epoch=xtrain.shape[0]//32,\n",
        "                              epochs=50,\n",
        "                              verbose=1,\n",
        "                              validation_data=(xval, yval))\n"
      ],
      "metadata": {
        "id": "tUX853spfkzS"
      },
      "execution_count": null,
      "outputs": []
    },
    {
      "cell_type": "code",
      "source": [
        "test_images = ['somelucid images name with '' ']\n",
        "gamma = 2.0\n",
        "rows = 3\n",
        "cols = 2\n",
        "axes = []\n",
        "assign = {'0':'Mask', '1':'No Mask'}\n",
        "for j,img in enumerate(test_iamges):\n",
        "  image = cv2.imread(os.path.join(image_directory, img), 1)\n",
        "  image = adjust_gamma(image, gamma = gamma)\n",
        "  (h, w) = image.shape[:2]\n",
        "  blob=cv2.dnn.blobFromImage(cv2.resize(image, (300, 300)), 1.0, (300, 300), (104.0, 177.0, 123.0))\n",
        "  cvNet.setInput(blob)\n",
        "  detections = cvNet.forward()\n",
        "  for i in range(0, detections.shape[2]):\n",
        "    try:\n",
        "      box = detections[0, 0, i, 3:7] * np.array([w, h, w, h])\n",
        "      (startX, startY, endX, endY) = box.astype(\"int\")\n",
        "      frame = image[startY:endY, startX:endX]\n",
        "      confidence = detections[0, 0, i, 2]\n",
        "      if confidence > 0.2:\n",
        "        img = cv2.resize(frame, (img_size, img_size))\n",
        "        img = np.array(img)/255.0\n",
        "        img = img.reshape(-1, 124, 124, 3)\n",
        "        result = model.predict(img)\n",
        "        if result > 0.5:\n",
        "          label_Y = 1\n",
        "\n",
        "        else:\n",
        "          label_Y = 0\n",
        "        cv2.rectangle(image, (startX, startY), (endX, endY), (0, 0, 255), 2)\n",
        "        cv2.putText(image, assign[str(label_Y)], (startX, startY-10), cv2.FONT_HERSHEY_SIMPLEX, 1.5, (36, 255, 12), 2)\n",
        "      except:pass\n",
        "    axes.append(fig.add_subplot(rows, cols, j+1))\n",
        "    plt.imshow(cv2.cvtColor(image, cv2.COLOR_BGR2RGB))\n",
        "  plt.show()"
      ],
      "metadata": {
        "id": "4RyUxDV0hxyA"
      },
      "execution_count": null,
      "outputs": []
    }
  ]
}